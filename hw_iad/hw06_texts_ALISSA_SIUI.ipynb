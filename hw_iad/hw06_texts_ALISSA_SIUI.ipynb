{
 "cells": [
  {
   "cell_type": "markdown",
   "metadata": {
    "id": "Ffq6A2-ifzAA"
   },
   "source": [
    "# Интеллектуальный анализ данных – весна 2024\n",
    "# Домашнее задание 6: классификация текстов"
   ]
  },
  {
   "cell_type": "markdown",
   "metadata": {
    "id": "EPcxtekTA1Sm"
   },
   "source": [
    "Правила:\n",
    "\n",
    "\n",
    "\n",
    "*   Домашнее задание оценивается в 10 баллов.\n",
    "*   Можно использовать без доказательства любые результаты, встречавшиеся на лекциях или семинарах по курсу, если получение этих результатов не является вопросом задания.\n",
    "*  Можно использовать любые свободные источники с *обязательным* указанием ссылки на них.\n",
    "*  Плагиат не допускается. При обнаружении случаев списывания, 0 за работу выставляется всем участникам нарушения, даже если можно установить, кто у кого списал.\n",
    "*  Старайтесь сделать код как можно более оптимальным. В частности, будет штрафоваться использование циклов в тех случаях, когда операцию можно совершить при помощи инструментов библиотек, о которых рассказывалось в курсе."
   ]
  },
  {
   "cell_type": "markdown",
   "metadata": {
    "id": "itRtFtrOf0_b"
   },
   "source": [
    "В этом домашнем задании вам предстоит построить классификатор текстов.\n",
    "\n",
    "Будем предсказывать эмоциональную окраску твиттов о коронавирусе.\n",
    "\n"
   ]
  },
  {
   "cell_type": "code",
   "execution_count": 1,
   "metadata": {
    "id": "tNGRVO7_g9mz"
   },
   "outputs": [],
   "source": [
    "import numpy as np\n",
    "import pandas as pd\n",
    "from typing import  List\n",
    "import matplotlib.pyplot as plt\n",
    "import seaborn as sns\n",
    "from string import punctuation"
   ]
  },
  {
   "cell_type": "code",
   "execution_count": 2,
   "metadata": {
    "colab": {
     "base_uri": "https://localhost:8080/",
     "height": 244
    },
    "id": "zOy8iHJQg_Ss",
    "outputId": "943a276c-f18a-47d1-d2b3-0b63ee1a74b2"
   },
   "outputs": [
    {
     "data": {
      "text/html": [
       "<div>\n",
       "<style scoped>\n",
       "    .dataframe tbody tr th:only-of-type {\n",
       "        vertical-align: middle;\n",
       "    }\n",
       "\n",
       "    .dataframe tbody tr th {\n",
       "        vertical-align: top;\n",
       "    }\n",
       "\n",
       "    .dataframe thead th {\n",
       "        text-align: right;\n",
       "    }\n",
       "</style>\n",
       "<table border=\"1\" class=\"dataframe\">\n",
       "  <thead>\n",
       "    <tr style=\"text-align: right;\">\n",
       "      <th></th>\n",
       "      <th>UserName</th>\n",
       "      <th>ScreenName</th>\n",
       "      <th>Location</th>\n",
       "      <th>TweetAt</th>\n",
       "      <th>OriginalTweet</th>\n",
       "      <th>Sentiment</th>\n",
       "    </tr>\n",
       "  </thead>\n",
       "  <tbody>\n",
       "    <tr>\n",
       "      <th>4579</th>\n",
       "      <td>9358</td>\n",
       "      <td>54310</td>\n",
       "      <td>Florida, USA</td>\n",
       "      <td>19-03-2020</td>\n",
       "      <td>Officials say \"stay out of groups of 10\"\\r\\r\\n...</td>\n",
       "      <td>Negative</td>\n",
       "    </tr>\n",
       "    <tr>\n",
       "      <th>19142</th>\n",
       "      <td>27093</td>\n",
       "      <td>72045</td>\n",
       "      <td>#maga &amp; read:</td>\n",
       "      <td>25-03-2020</td>\n",
       "      <td>#ccot #tcot #pjnet #teaparty #hannity #tucker ...</td>\n",
       "      <td>Negative</td>\n",
       "    </tr>\n",
       "    <tr>\n",
       "      <th>29710</th>\n",
       "      <td>40280</td>\n",
       "      <td>85232</td>\n",
       "      <td>Lynnwood, WA</td>\n",
       "      <td>09-04-2020</td>\n",
       "      <td>Where am I going?\\r\\r\\nA) to the grocery store...</td>\n",
       "      <td>Negative</td>\n",
       "    </tr>\n",
       "    <tr>\n",
       "      <th>6716</th>\n",
       "      <td>11964</td>\n",
       "      <td>56916</td>\n",
       "      <td>Texas</td>\n",
       "      <td>19-03-2020</td>\n",
       "      <td>@stacieco13 @CBSNews COVID-19 infecting entire...</td>\n",
       "      <td>Extremely Negative</td>\n",
       "    </tr>\n",
       "  </tbody>\n",
       "</table>\n",
       "</div>"
      ],
      "text/plain": [
       "       UserName  ScreenName       Location     TweetAt  \\\n",
       "4579       9358       54310   Florida, USA  19-03-2020   \n",
       "19142     27093       72045  #maga & read:  25-03-2020   \n",
       "29710     40280       85232   Lynnwood, WA  09-04-2020   \n",
       "6716      11964       56916          Texas  19-03-2020   \n",
       "\n",
       "                                           OriginalTweet           Sentiment  \n",
       "4579   Officials say \"stay out of groups of 10\"\\r\\r\\n...            Negative  \n",
       "19142  #ccot #tcot #pjnet #teaparty #hannity #tucker ...            Negative  \n",
       "29710  Where am I going?\\r\\r\\nA) to the grocery store...            Negative  \n",
       "6716   @stacieco13 @CBSNews COVID-19 infecting entire...  Extremely Negative  "
      ]
     },
     "execution_count": 2,
     "metadata": {},
     "output_type": "execute_result"
    }
   ],
   "source": [
    "df = pd.read_csv('https://raw.githubusercontent.com/hse-ds/iad-intro-ds/master/2024/homeworks/hw06_texts/tweets_coronavirus.csv', encoding='latin-1')\n",
    "df.sample(4)"
   ]
  },
  {
   "cell_type": "markdown",
   "metadata": {
    "id": "m2OiDog9ZBlS"
   },
   "source": [
    "Для каждого твитта указано:\n",
    "\n",
    "\n",
    "*   UserName - имя пользователя, заменено на целое число для анонимности\n",
    "*   ScreenName - отображающееся имя пользователя, заменено на целое число для анонимности\n",
    "*   Location - местоположение\n",
    "*   TweetAt - дата создания твитта\n",
    "*   OriginalTweet - текст твитта\n",
    "*   Sentiment - эмоциональная окраска твитта (целевая переменная)\n",
    "\n"
   ]
  },
  {
   "cell_type": "markdown",
   "metadata": {
    "id": "pZTMseDkhTC7"
   },
   "source": [
    "## Задание 1 Подготовка (0.5 балла)"
   ]
  },
  {
   "cell_type": "markdown",
   "metadata": {
    "id": "Xx2-odn9hdAW"
   },
   "source": [
    "Целевая переменная находится в колонке `Sentiment`.  Преобразуйте ее таким образом, чтобы она стала бинарной: 1 - если у твитта положительная эмоциональная окраска и 0 - если отрицательная."
   ]
  },
  {
   "cell_type": "code",
   "execution_count": 3,
   "metadata": {
    "colab": {
     "base_uri": "https://localhost:8080/"
    },
    "id": "cLWrtqqS46T7",
    "outputId": "cf18c98f-2d26-4f9d-de36-c079ecf2cb6e"
   },
   "outputs": [
    {
     "data": {
      "text/plain": [
       "Positive              11422\n",
       "Negative               9917\n",
       "Extremely Positive     6624\n",
       "Extremely Negative     5481\n",
       "Name: Sentiment, dtype: int64"
      ]
     },
     "execution_count": 3,
     "metadata": {},
     "output_type": "execute_result"
    }
   ],
   "source": [
    "df.Sentiment.value_counts()"
   ]
  },
  {
   "cell_type": "code",
   "execution_count": 4,
   "metadata": {
    "id": "VSIejV5U27rJ"
   },
   "outputs": [],
   "source": [
    "df.Sentiment = df.Sentiment.str.contains('Positive').astype(int)"
   ]
  },
  {
   "cell_type": "code",
   "execution_count": 5,
   "metadata": {
    "colab": {
     "base_uri": "https://localhost:8080/",
     "height": 362
    },
    "id": "ZaQKQ1zEjP15",
    "outputId": "d50f9020-57f5-46f2-83f1-eceda793fc31"
   },
   "outputs": [
    {
     "data": {
      "text/html": [
       "<div>\n",
       "<style scoped>\n",
       "    .dataframe tbody tr th:only-of-type {\n",
       "        vertical-align: middle;\n",
       "    }\n",
       "\n",
       "    .dataframe tbody tr th {\n",
       "        vertical-align: top;\n",
       "    }\n",
       "\n",
       "    .dataframe thead th {\n",
       "        text-align: right;\n",
       "    }\n",
       "</style>\n",
       "<table border=\"1\" class=\"dataframe\">\n",
       "  <thead>\n",
       "    <tr style=\"text-align: right;\">\n",
       "      <th></th>\n",
       "      <th>UserName</th>\n",
       "      <th>ScreenName</th>\n",
       "      <th>Location</th>\n",
       "      <th>TweetAt</th>\n",
       "      <th>OriginalTweet</th>\n",
       "      <th>Sentiment</th>\n",
       "    </tr>\n",
       "  </thead>\n",
       "  <tbody>\n",
       "    <tr>\n",
       "      <th>0</th>\n",
       "      <td>3800</td>\n",
       "      <td>48752</td>\n",
       "      <td>UK</td>\n",
       "      <td>16-03-2020</td>\n",
       "      <td>advice Talk to your neighbours family to excha...</td>\n",
       "      <td>1</td>\n",
       "    </tr>\n",
       "    <tr>\n",
       "      <th>1</th>\n",
       "      <td>3801</td>\n",
       "      <td>48753</td>\n",
       "      <td>Vagabonds</td>\n",
       "      <td>16-03-2020</td>\n",
       "      <td>Coronavirus Australia: Woolworths to give elde...</td>\n",
       "      <td>1</td>\n",
       "    </tr>\n",
       "    <tr>\n",
       "      <th>2</th>\n",
       "      <td>3802</td>\n",
       "      <td>48754</td>\n",
       "      <td>NaN</td>\n",
       "      <td>16-03-2020</td>\n",
       "      <td>My food stock is not the only one which is emp...</td>\n",
       "      <td>1</td>\n",
       "    </tr>\n",
       "    <tr>\n",
       "      <th>3</th>\n",
       "      <td>3803</td>\n",
       "      <td>48755</td>\n",
       "      <td>NaN</td>\n",
       "      <td>16-03-2020</td>\n",
       "      <td>Me, ready to go at supermarket during the #COV...</td>\n",
       "      <td>0</td>\n",
       "    </tr>\n",
       "    <tr>\n",
       "      <th>4</th>\n",
       "      <td>3804</td>\n",
       "      <td>48756</td>\n",
       "      <td>ÃÂT: 36.319708,-82.363649</td>\n",
       "      <td>16-03-2020</td>\n",
       "      <td>As news of the regionÃÂs first confirmed COV...</td>\n",
       "      <td>1</td>\n",
       "    </tr>\n",
       "  </tbody>\n",
       "</table>\n",
       "</div>"
      ],
      "text/plain": [
       "   UserName  ScreenName                     Location     TweetAt  \\\n",
       "0      3800       48752                           UK  16-03-2020   \n",
       "1      3801       48753                    Vagabonds  16-03-2020   \n",
       "2      3802       48754                          NaN  16-03-2020   \n",
       "3      3803       48755                          NaN  16-03-2020   \n",
       "4      3804       48756  ÃÂT: 36.319708,-82.363649  16-03-2020   \n",
       "\n",
       "                                       OriginalTweet  Sentiment  \n",
       "0  advice Talk to your neighbours family to excha...          1  \n",
       "1  Coronavirus Australia: Woolworths to give elde...          1  \n",
       "2  My food stock is not the only one which is emp...          1  \n",
       "3  Me, ready to go at supermarket during the #COV...          0  \n",
       "4  As news of the regionÃÂs first confirmed COV...          1  "
      ]
     },
     "execution_count": 5,
     "metadata": {},
     "output_type": "execute_result"
    }
   ],
   "source": [
    "df.head()"
   ]
  },
  {
   "cell_type": "markdown",
   "metadata": {
    "id": "pGq1FxJ-kBo5"
   },
   "source": [
    "Сбалансированы ли классы?"
   ]
  },
  {
   "cell_type": "code",
   "execution_count": 6,
   "metadata": {
    "colab": {
     "base_uri": "https://localhost:8080/"
    },
    "id": "a7gdNtxckK5V",
    "outputId": "61507560-bb7d-4e78-f8a8-87f7613827be"
   },
   "outputs": [
    {
     "data": {
      "text/plain": [
       "1    0.539589\n",
       "0    0.460411\n",
       "Name: Sentiment, dtype: float64"
      ]
     },
     "execution_count": 6,
     "metadata": {},
     "output_type": "execute_result"
    }
   ],
   "source": [
    "df.Sentiment.value_counts(normalize = True)"
   ]
  },
  {
   "cell_type": "markdown",
   "metadata": {
    "id": "Ng8BCelMkWb0"
   },
   "source": [
    "**Ответ:** Да, можно считать что более-менее"
   ]
  },
  {
   "cell_type": "markdown",
   "metadata": {
    "id": "qmSIBSsLk5Zz"
   },
   "source": [
    "Выведете на экран информацию о пропусках в данных. Если пропуски присутствуют заполните их строкой 'Unknown'."
   ]
  },
  {
   "cell_type": "code",
   "execution_count": 7,
   "metadata": {
    "colab": {
     "base_uri": "https://localhost:8080/"
    },
    "id": "M91K2GyE5Z5T",
    "outputId": "f4400d93-0c23-4b45-ca0a-edbe1ee5f08f"
   },
   "outputs": [
    {
     "data": {
      "text/plain": [
       "UserName            0\n",
       "ScreenName          0\n",
       "Location         7049\n",
       "TweetAt             0\n",
       "OriginalTweet       0\n",
       "Sentiment           0\n",
       "dtype: int64"
      ]
     },
     "execution_count": 7,
     "metadata": {},
     "output_type": "execute_result"
    }
   ],
   "source": [
    "df.isnull().sum()"
   ]
  },
  {
   "cell_type": "markdown",
   "metadata": {
    "id": "PRGQEEKZ5hVS"
   },
   "source": [
    "Заполняем пропуски\n",
    "\n",
    "---"
   ]
  },
  {
   "cell_type": "code",
   "execution_count": 8,
   "metadata": {
    "id": "L9_XwUZQ5lUP"
   },
   "outputs": [],
   "source": [
    "df.Location.fillna('Unknown', inplace = True)"
   ]
  },
  {
   "cell_type": "code",
   "execution_count": 9,
   "metadata": {
    "colab": {
     "base_uri": "https://localhost:8080/"
    },
    "id": "on9PAWln56qf",
    "outputId": "bcf0dc02-b3a1-40e6-8bf5-c16ca211650f"
   },
   "outputs": [
    {
     "data": {
      "text/plain": [
       "7052"
      ]
     },
     "execution_count": 9,
     "metadata": {},
     "output_type": "execute_result"
    }
   ],
   "source": [
    "(df.Location == 'Unknown').sum() #  у нас ранее было 3 Unknown, потом добавилось еще 7049"
   ]
  },
  {
   "cell_type": "markdown",
   "metadata": {
    "id": "1tzt27tfjUpq"
   },
   "source": [
    "Разделите данные на обучающие и тестовые в соотношении 7 : 3 и `random_state=0`"
   ]
  },
  {
   "cell_type": "code",
   "execution_count": 10,
   "metadata": {
    "id": "GQzZu_-g6ezi"
   },
   "outputs": [],
   "source": [
    "from sklearn.model_selection import train_test_split\n",
    "# модуль model_selection содежит массу методов для настройки гиперпараметров, кросс-валидации и тд"
   ]
  },
  {
   "cell_type": "code",
   "execution_count": 11,
   "metadata": {
    "colab": {
     "base_uri": "https://localhost:8080/"
    },
    "id": "xSLOA9tIj9Z6",
    "outputId": "890c155e-f246-462f-a7bc-f8e5842d60e7"
   },
   "outputs": [
    {
     "data": {
      "text/plain": [
       "((23410, 6), (10034, 6))"
      ]
     },
     "execution_count": 11,
     "metadata": {},
     "output_type": "execute_result"
    }
   ],
   "source": [
    "train, test = train_test_split(df, test_size = 0.3, random_state=0)\n",
    "train.shape, test.shape"
   ]
  },
  {
   "cell_type": "markdown",
   "metadata": {
    "id": "J9RrPUsJlL60"
   },
   "source": [
    "## Задание 2 Токенизация (3 балла)"
   ]
  },
  {
   "cell_type": "markdown",
   "metadata": {
    "id": "2Dz_b7Xopc_R"
   },
   "source": [
    "Постройте словарь на основе обучающей выборки и посчитайте количество встреч каждого токена с использованием самой простой токенизации - деления текстов по пробельным символам и приведение токенов в нижний регистр"
   ]
  },
  {
   "cell_type": "code",
   "execution_count": 12,
   "metadata": {
    "colab": {
     "base_uri": "https://localhost:8080/"
    },
    "id": "tyHRgO3cEPaT",
    "outputId": "3dc59b8b-93f6-4b83-bba1-4be4cffe6ba0"
   },
   "outputs": [
    {
     "data": {
      "text/plain": [
       "True"
      ]
     },
     "execution_count": 12,
     "metadata": {},
     "output_type": "execute_result"
    }
   ],
   "source": [
    "lower_text = (' '.join(train.OriginalTweet.tolist())).lower()\n",
    "lower_text.islower()"
   ]
  },
  {
   "cell_type": "code",
   "execution_count": 13,
   "metadata": {
    "id": "PAEiF3N4GoJ3"
   },
   "outputs": [],
   "source": [
    "split_text = np.array(lower_text.split())\n",
    "unique_words, counts = np.unique(split_text, return_counts=True) # подсчитываем колличество встречаемых\n",
    "my_dict = dict(zip(unique_words, counts)) # создаем словарь"
   ]
  },
  {
   "cell_type": "markdown",
   "metadata": {
    "id": "Pe0h2Jqkpnao"
   },
   "source": [
    "Какой размер словаря получился?"
   ]
  },
  {
   "cell_type": "code",
   "execution_count": 14,
   "metadata": {
    "colab": {
     "base_uri": "https://localhost:8080/"
    },
    "id": "W53ZeQbQQGsv",
    "outputId": "1319a45a-8fbe-4941-d1d4-93948397deb7"
   },
   "outputs": [
    {
     "data": {
      "text/plain": [
       "79755"
      ]
     },
     "execution_count": 14,
     "metadata": {},
     "output_type": "execute_result"
    }
   ],
   "source": [
    "len(unique_words)"
   ]
  },
  {
   "cell_type": "markdown",
   "metadata": {
    "id": "0d2G1Z-Qpqkd"
   },
   "source": [
    "Выведите 10 самых популярных токенов с количеством встреч каждого из них. Объясните, почему именно эти токены в топе"
   ]
  },
  {
   "cell_type": "code",
   "execution_count": 15,
   "metadata": {
    "id": "Impi32a_pssg"
   },
   "outputs": [],
   "source": [
    "my_dict = dict(sorted(my_dict.items(), key=lambda item: item[1])[::-1])"
   ]
  },
  {
   "cell_type": "code",
   "execution_count": 16,
   "metadata": {
    "colab": {
     "base_uri": "https://localhost:8080/"
    },
    "id": "Lsj-OUrOxmMk",
    "outputId": "7cf22a73-29dc-4108-e78b-29520393ae72"
   },
   "outputs": [
    {
     "data": {
      "text/plain": [
       "[('the', 26815),\n",
       " ('to', 23373),\n",
       " ('and', 14684),\n",
       " ('of', 13012),\n",
       " ('a', 11737),\n",
       " ('in', 11198),\n",
       " ('for', 8566),\n",
       " ('#coronavirus', 8223),\n",
       " ('is', 7383),\n",
       " ('are', 7050)]"
      ]
     },
     "execution_count": 16,
     "metadata": {},
     "output_type": "execute_result"
    }
   ],
   "source": [
    "list(my_dict.items())[:10]"
   ]
  },
  {
   "cell_type": "markdown",
   "metadata": {
    "id": "ZtuJCD0ApuFd"
   },
   "source": [
    "**Ответ:** здесь представлены постоянно используемые союзы (and), предлоги (to, of, in， for),  артикли (the, a), так же по хэштегу можем понять, что активно обсуждалось в твиттере в период, когда парсились комментарии"
   ]
  },
  {
   "cell_type": "markdown",
   "metadata": {
    "id": "T7DTQDkWsVYp"
   },
   "source": [
    "Удалите стоп-слова из словаря и выведите новый топ-10 токенов (и количество встреч) по популярности.  Что можно сказать  о нем?"
   ]
  },
  {
   "cell_type": "code",
   "execution_count": 17,
   "metadata": {
    "colab": {
     "base_uri": "https://localhost:8080/"
    },
    "id": "8csSAdgTsnFx",
    "outputId": "28acbe09-287e-4418-8672-297c0127ae88"
   },
   "outputs": [
    {
     "name": "stderr",
     "output_type": "stream",
     "text": [
      "[nltk_data] Downloading package stopwords to /Users/syuy/nltk_data...\n",
      "[nltk_data]   Package stopwords is already up-to-date!\n"
     ]
    },
    {
     "data": {
      "text/plain": [
       "True"
      ]
     },
     "execution_count": 17,
     "metadata": {},
     "output_type": "execute_result"
    }
   ],
   "source": [
    "import nltk\n",
    "from nltk.corpus import stopwords\n",
    "nltk.download(\"stopwords\")"
   ]
  },
  {
   "cell_type": "code",
   "execution_count": 18,
   "metadata": {
    "colab": {
     "base_uri": "https://localhost:8080/"
    },
    "id": "xLziWLewRN2G",
    "outputId": "34921d99-370a-4256-fa67-c2ed5b9f7d4d"
   },
   "outputs": [
    {
     "data": {
      "text/plain": [
       "((179,),\n",
       " array(['i', 'me', 'my', 'myself', 'we', 'our', 'ours', 'ourselves', 'you',\n",
       "        \"you're\"], dtype='<U10'))"
      ]
     },
     "execution_count": 18,
     "metadata": {},
     "output_type": "execute_result"
    }
   ],
   "source": [
    "noise = np.array(stopwords.words('english'))\n",
    "noise.shape, noise[:10] # здесь просто пример мусорных слов"
   ]
  },
  {
   "cell_type": "code",
   "execution_count": 19,
   "metadata": {
    "id": "QzJqnV8NUY6T"
   },
   "outputs": [],
   "source": [
    "for key in noise: # удаляем все стоп-слова из нашего словаря\n",
    "    my_dict.pop(key, None)"
   ]
  },
  {
   "cell_type": "code",
   "execution_count": 20,
   "metadata": {
    "colab": {
     "base_uri": "https://localhost:8080/"
    },
    "id": "PoGT_ooEV_HZ",
    "outputId": "19af43a9-de14-4fd3-9dda-fcbc933ecbae"
   },
   "outputs": [
    {
     "data": {
      "text/plain": [
       "[('#coronavirus', 8223),\n",
       " ('prices', 3891),\n",
       " ('food', 3820),\n",
       " ('grocery', 3469),\n",
       " ('supermarket', 3288),\n",
       " ('people', 3175),\n",
       " ('covid-19', 3173),\n",
       " ('store', 3155),\n",
       " ('#covid19', 2471),\n",
       " ('&amp;', 2314)]"
      ]
     },
     "execution_count": 20,
     "metadata": {},
     "output_type": "execute_result"
    }
   ],
   "source": [
    "list(my_dict.items())[:10] # top-10 самых популярных"
   ]
  },
  {
   "cell_type": "code",
   "execution_count": 21,
   "metadata": {
    "colab": {
     "base_uri": "https://localhost:8080/"
    },
    "id": "L35eDa0paevX",
    "outputId": "d806dd50-ce72-434d-8e7f-13f907267a07"
   },
   "outputs": [
    {
     "data": {
      "text/plain": [
       "79584"
      ]
     },
     "execution_count": 21,
     "metadata": {},
     "output_type": "execute_result"
    }
   ],
   "source": [
    "len(my_dict)"
   ]
  },
  {
   "cell_type": "markdown",
   "metadata": {
    "id": "LZH0x2Lzs-Dh"
   },
   "source": [
    "**Ответ:**  79755 (длина до удаления слов) -  79584 = 171 мусорное словечко выкинули. Топ слов обновился, появились уже слова а не союзы/предлоги/частицы, все мелкое и смысла не имеющее в отдельности было заменено словами на тематику пандемии"
   ]
  },
  {
   "cell_type": "markdown",
   "metadata": {
    "id": "TKSGRyI-uor0"
   },
   "source": [
    "Также выведите 20 самых непопулярных слов (если самых непопулярных слов больше выведите любые 20 из них) Почему эти токены непопулярны, требуется ли как-то дополнительно работать с ними?"
   ]
  },
  {
   "cell_type": "code",
   "execution_count": 22,
   "metadata": {
    "colab": {
     "base_uri": "https://localhost:8080/"
    },
    "id": "moArbwfvun9t",
    "outputId": "6a7b86d6-0796-451e-b7dc-6fa512e117bc"
   },
   "outputs": [
    {
     "data": {
      "text/plain": [
       "[('\"#pricegouging\"', 1),\n",
       " ('\"#grocery', 1),\n",
       " ('\"#food', 1),\n",
       " ('\"#energy', 1),\n",
       " ('\"#covid_19', 1),\n",
       " ('\"#covid19', 1),\n",
       " ('\"#coronavirus:', 1),\n",
       " ('\"#contagion\".', 1),\n",
       " ('\"#bitcoin', 1),\n",
       " ('\"#alcohol', 1),\n",
       " ('!social', 1),\n",
       " ('!@#@!@#', 1),\n",
       " ('!?', 1),\n",
       " ('!,', 1),\n",
       " ('!).', 1),\n",
       " ('!#somegoodnews', 1),\n",
       " ('!!!???', 1),\n",
       " ('!!!!!?????', 1),\n",
       " ('!!!!!!!!', 1),\n",
       " ('!!!!!!', 1)]"
      ]
     },
     "execution_count": 22,
     "metadata": {},
     "output_type": "execute_result"
    }
   ],
   "source": [
    "list(my_dict.items())[-20:] # top-20 самых редких"
   ]
  },
  {
   "cell_type": "markdown",
   "metadata": {
    "id": "uRp3J1gQunlR"
   },
   "source": [
    "**Ответ:** много комбинаций из однотипных знаков пунктуации - можем ее в целом выкинуть, это только тональная окраска, не имеет смысла при анализе содержания текста. Так же много плохо обрезанных хештегов (к ним прилипли кавычки, собачки и тд.) - надо использовать более продвинутый токенайзер, чем сплит по пробелам, тогда эти хештеги получится привести в нормальный вид, это довольно популярные слова, поэтому у них вероятней всего есть \"хорошо обработанные\" близнецы-токены, просто объединим родственников - словарь уменьшится.\n"
   ]
  },
  {
   "cell_type": "markdown",
   "metadata": {
    "id": "wx9LQOSPzvjV"
   },
   "source": [
    "Теперь воспользуемся токенайзером получше - TweetTokenizer из библиотеки nltk. Примените его и посмотрите на топ-10 популярных слов. Чем он отличается от топа, который получался раньше? Почему?"
   ]
  },
  {
   "cell_type": "code",
   "execution_count": 23,
   "metadata": {
    "id": "AIZKH2rzs6bS"
   },
   "outputs": [],
   "source": [
    "from nltk.tokenize import TweetTokenizer\n",
    "from sklearn.feature_extraction.text import CountVectorizer"
   ]
  },
  {
   "cell_type": "code",
   "execution_count": 24,
   "metadata": {
    "id": "2G1UkyVxzvFY"
   },
   "outputs": [],
   "source": [
    "tw = TweetTokenizer()\n",
    "unique_words_tw, counts_tw = np.unique(tw.tokenize(lower_text), return_counts=True) \n",
    "# считаем количество повторов каждого токена с помощью  return_counts=True\n",
    "my_dict_tw = dict(zip(unique_words_tw, counts_tw))\n",
    "# создаем словарик ключ - количество выше"
   ]
  },
  {
   "cell_type": "code",
   "execution_count": 25,
   "metadata": {
    "id": "et-O2_sAvvdC"
   },
   "outputs": [],
   "source": [
    "my_dict_tw = dict(sorted(my_dict_tw.items(), key = lambda item:item[1], reverse = True)) # сортирую по убыванию"
   ]
  },
  {
   "cell_type": "code",
   "execution_count": 26,
   "metadata": {
    "colab": {
     "base_uri": "https://localhost:8080/"
    },
    "id": "RXV0_38xvLed",
    "outputId": "ff63f945-ef1b-4ba9-a861-84d3475a4bcb"
   },
   "outputs": [
    {
     "data": {
      "text/plain": [
       "[('the', 26993),\n",
       " ('.', 24108),\n",
       " ('to', 23478),\n",
       " (',', 17571),\n",
       " ('and', 14825),\n",
       " ('of', 13044),\n",
       " ('a', 11891),\n",
       " ('in', 11348),\n",
       " ('?', 9524),\n",
       " ('#coronavirus', 8808)]"
      ]
     },
     "execution_count": 26,
     "metadata": {},
     "output_type": "execute_result"
    }
   ],
   "source": [
    "list(my_dict_tw.items())[:10] # топ-10 фаворитов по версии токенайзера TweetTokenizer"
   ]
  },
  {
   "cell_type": "code",
   "execution_count": 27,
   "metadata": {
    "colab": {
     "base_uri": "https://localhost:8080/"
    },
    "id": "-ue21WsludK0",
    "outputId": "198ed80b-73bf-4630-da01-3c52a80fa55f"
   },
   "outputs": [
    {
     "data": {
      "text/plain": [
       "58348"
      ]
     },
     "execution_count": 27,
     "metadata": {},
     "output_type": "execute_result"
    }
   ],
   "source": [
    "len(my_dict_tw)"
   ]
  },
  {
   "cell_type": "markdown",
   "metadata": {
    "id": "50eVUnJN1Zxl"
   },
   "source": [
    "**Ответ:** TweetTokenizer может выделять знаки препинания на отдельные токены, поэтому запятые и точки у нас в топе повторов. Ситуация очень похожа на токенизацию путем сплита по пробелу, так же много неинформативных частиц и предлогов."
   ]
  },
  {
   "cell_type": "markdown",
   "metadata": {
    "id": "1gqQgiMs11bs"
   },
   "source": [
    "Удалите из словаря стоп-слова и пунктуацию, посмотрите на новый топ-10 слов с количеством встреч, есть ли теперь в нем что-то не похожее на слова?"
   ]
  },
  {
   "cell_type": "code",
   "execution_count": 28,
   "metadata": {
    "id": "0yHWdFrp0Mup"
   },
   "outputs": [],
   "source": [
    "from string import punctuation"
   ]
  },
  {
   "cell_type": "code",
   "execution_count": 29,
   "metadata": {
    "colab": {
     "base_uri": "https://localhost:8080/"
    },
    "id": "JMqKtMocyAMU",
    "outputId": "7619fb1c-2d9b-4a09-c26b-4751c029a895"
   },
   "outputs": [
    {
     "data": {
      "text/plain": [
       "array(['!', '\"', '#', '$', '%', '&', \"'\", '(', ')', '*', '+', ',', '-',\n",
       "       '.', '/'], dtype='<U10')"
      ]
     },
     "execution_count": 29,
     "metadata": {},
     "output_type": "execute_result"
    }
   ],
   "source": [
    "noise_tw = np.concatenate([np.array(list(punctuation)),noise]) # объединила знаки препинания и мусорые слова\n",
    "noise_tw[:15]"
   ]
  },
  {
   "cell_type": "code",
   "execution_count": 30,
   "metadata": {
    "id": "czKD6bGX1qI6"
   },
   "outputs": [],
   "source": [
    "for key in noise_tw:\n",
    "  my_dict_tw.pop(key, None)"
   ]
  },
  {
   "cell_type": "code",
   "execution_count": 31,
   "metadata": {
    "colab": {
     "base_uri": "https://localhost:8080/"
    },
    "id": "TBJ96MCY18b4",
    "outputId": "5fa4f63b-00c5-4012-df28-e2459887fa20"
   },
   "outputs": [
    {
     "data": {
      "text/plain": [
       "58145"
      ]
     },
     "execution_count": 31,
     "metadata": {},
     "output_type": "execute_result"
    }
   ],
   "source": [
    "len(my_dict_tw) "
   ]
  },
  {
   "cell_type": "code",
   "execution_count": 32,
   "metadata": {
    "colab": {
     "base_uri": "https://localhost:8080/"
    },
    "id": "gVuuQVgi2SGF",
    "outputId": "5f6a3743-b94b-4f4e-85f2-3abb668eb216"
   },
   "outputs": [
    {
     "data": {
      "text/plain": [
       "[('#coronavirus', 8808),\n",
       " ('â', 7415),\n",
       " ('\\x82', 7311),\n",
       " ('19', 7167),\n",
       " ('covid', 6253),\n",
       " ('prices', 4601),\n",
       " ('\\x92', 4372),\n",
       " ('food', 4367),\n",
       " ('store', 3877),\n",
       " ('supermarket', 3805)]"
      ]
     },
     "execution_count": 32,
     "metadata": {},
     "output_type": "execute_result"
    }
   ],
   "source": [
    "list(my_dict_tw.items())[:10]"
   ]
  },
  {
   "cell_type": "markdown",
   "metadata": {
    "id": "8ZJqXELP_Yxy"
   },
   "source": [
    "**Ответ:** все выглядит очень прилично за исключением раздробленных на части ссылок (('\\x92', 4372), ('â', 7415)), эти части могут находиться в ссылках на источники с нестандартной кодировкой. TweetTokenizer отдельно считает эти части, хотя смысла содержательного в них нет. Сначала убрать все ссылки, а потом применять токейназер."
   ]
  },
  {
   "cell_type": "markdown",
   "metadata": {
    "id": "rzXjMsSB_kXB"
   },
   "source": [
    "Удалите из словаря токены из одного символа, с позицией в таблице Unicode 128 и более (`ord(x) >= 128`)\n",
    "\n",
    "Выведите топ-10 самых популярных и топ-20 непопулярных слов. Чем полученные топы отличаются от итоговых топов, полученных при использовании токенизации по пробелам? Что теперь лучше, а что хуже?"
   ]
  },
  {
   "cell_type": "code",
   "execution_count": 33,
   "metadata": {
    "id": "0R5yZ0iW_-4T"
   },
   "outputs": [],
   "source": [
    "my_dict_tw= dict(filter(lambda item: len(item[0])>1 or ord(item[0])<128, my_dict_tw.items()))\n",
    "# применяем фильтр: односимвольные с позицией ord(x) >= 128 не пройдут!"
   ]
  },
  {
   "cell_type": "code",
   "execution_count": 34,
   "metadata": {
    "colab": {
     "base_uri": "https://localhost:8080/"
    },
    "id": "UdmE874apLH-",
    "outputId": "86d9b19f-533a-4fe2-beac-eef0b96064ee"
   },
   "outputs": [
    {
     "data": {
      "text/plain": [
       "[('#coronavirus', 8808),\n",
       " ('19', 7167),\n",
       " ('covid', 6253),\n",
       " ('prices', 4601),\n",
       " ('food', 4367),\n",
       " ('store', 3877),\n",
       " ('supermarket', 3805),\n",
       " ('grocery', 3523),\n",
       " ('people', 3463),\n",
       " ('#covid19', 2589)]"
      ]
     },
     "execution_count": 34,
     "metadata": {},
     "output_type": "execute_result"
    }
   ],
   "source": [
    "list(my_dict_tw.items())[:10]"
   ]
  },
  {
   "cell_type": "code",
   "execution_count": 35,
   "metadata": {
    "colab": {
     "base_uri": "https://localhost:8080/"
    },
    "id": "1YydFG6WqBND",
    "outputId": "ee269fd0-a77b-46af-8415-da14c32b2a34"
   },
   "outputs": [
    {
     "data": {
      "text/plain": [
       "[('zooming', 1),\n",
       " ('zoopla', 1),\n",
       " ('zorb', 1),\n",
       " ('zororo', 1),\n",
       " ('zouzou', 1),\n",
       " ('zp', 1),\n",
       " ('zu', 1),\n",
       " ('zuckerberg', 1),\n",
       " ('zumba', 1),\n",
       " ('zumbuehl', 1),\n",
       " ('zumindest', 1),\n",
       " (\"zuppardo's\", 1),\n",
       " ('zur', 1),\n",
       " ('zuschlã', 1),\n",
       " ('zusendung', 1),\n",
       " ('zwd', 1),\n",
       " ('zwoferink', 1),\n",
       " ('zzz', 1),\n",
       " ('zã', 1),\n",
       " ('âºper', 1)]"
      ]
     },
     "execution_count": 35,
     "metadata": {},
     "output_type": "execute_result"
    }
   ],
   "source": [
    "list(my_dict_tw.items())[-20:]"
   ]
  },
  {
   "cell_type": "markdown",
   "metadata": {
    "id": "KzjHAKIlDvc6"
   },
   "source": [
    "**Ответ:** Спец токенизация для твитов после всех обработок кажется лучше, мы просто еще и пунктуацию убрали. В сплите по пробелам убирали только стоп слова "
   ]
  },
  {
   "cell_type": "markdown",
   "metadata": {
    "id": "EcDf9_6HB2zm"
   },
   "source": [
    "Выведите топ-10 популярных хештегов с количеством встреч. Что можно сказать о них?"
   ]
  },
  {
   "cell_type": "code",
   "execution_count": 36,
   "metadata": {
    "colab": {
     "base_uri": "https://localhost:8080/"
    },
    "id": "zk4fygCUBw3l",
    "outputId": "511cb325-2d25-4a41-9d94-e1502ee97747"
   },
   "outputs": [
    {
     "data": {
      "text/plain": [
       "[('#coronavirus', 8808),\n",
       " ('#covid19', 2589),\n",
       " ('#covid_19', 1734),\n",
       " ('#covid2019', 946),\n",
       " ('#toiletpaper', 744),\n",
       " ('#covid', 641),\n",
       " ('#socialdistancing', 465),\n",
       " ('#coronacrisis', 448),\n",
       " ('#pandemic', 257),\n",
       " ('#coronaviruspandemic', 249)]"
      ]
     },
     "execution_count": 36,
     "metadata": {},
     "output_type": "execute_result"
    }
   ],
   "source": [
    "top_hashtags = dict(filter(lambda item: item[0].startswith('#'), my_dict_tw.items()))\n",
    "sorted(top_hashtags.items(), key = lambda item:item[1], reverse=True)[:10]"
   ]
  },
  {
   "cell_type": "markdown",
   "metadata": {
    "id": "-6NeNWBkDxM7"
   },
   "source": [
    "**Ответ:** по видимому, люди были сильно обеспокоены темой короновируса"
   ]
  },
  {
   "cell_type": "markdown",
   "metadata": {
    "id": "LLYBg7caD5GA"
   },
   "source": [
    "То же самое проделайте для ссылок на сайт https://t.co Сравнима ли популярность ссылок с популярностью хештегов? Будет ли информация о ссылке на конкретную страницу полезна?"
   ]
  },
  {
   "cell_type": "code",
   "execution_count": 37,
   "metadata": {
    "colab": {
     "base_uri": "https://localhost:8080/"
    },
    "id": "MXbm1oeaCK9S",
    "outputId": "847e8867-a9d4-4141-c991-6f8ca61779fd"
   },
   "outputs": [
    {
     "data": {
      "text/plain": [
       "[('https://t.co/oxa7swtond', 5),\n",
       " ('https://t.co/gp3eusapl8', 4),\n",
       " ('https://t.co/3gbbdpdjat', 3),\n",
       " ('https://t.co/aziqcdgrnn', 3),\n",
       " ('https://t.co/bylqxrjmnt', 3),\n",
       " ('https://t.co/catkegayoy', 3),\n",
       " ('https://t.co/deftrui1pfã\\x82â', 3),\n",
       " ('https://t.co/e2znxajpre', 3),\n",
       " ('https://t.co/g63rp042ho', 3),\n",
       " ('https://t.co/kuwipf1kqw', 3)]"
      ]
     },
     "execution_count": 37,
     "metadata": {},
     "output_type": "execute_result"
    }
   ],
   "source": [
    "top_links = dict(filter(lambda item: item[0].startswith('https://t.co'), my_dict_tw.items()))\n",
    "sorted(top_links.items(), key = lambda item: item[1], reverse = True)[:10]"
   ]
  },
  {
   "cell_type": "markdown",
   "metadata": {
    "id": "at6lRYZ8A07N"
   },
   "source": [
    "**Ответ:** хэштеги чаще используемая история, чем ссылки на конкретные посты - людям не нравится совершать дополнительные действия по поиску нужной страницы, копированию ссылок и тд. Проще поставить хэштег, это норм способ повысить просмотры на посте, поэтому как в предыдущем пункте видим, что топ 10 встречаются достаточно большее количество раз, чем топ 10 по ссылкам"
   ]
  },
  {
   "cell_type": "markdown",
   "metadata": {
    "id": "IOGdUU1kBU1D"
   },
   "source": [
    "Используем опыт предыдущих экспериментов и напишем собственный токенайзер, улучшив TweetTokenizer. Функция tokenize должна:\n",
    "\n",
    "\n",
    "\n",
    "*   Привести текст в нижний регистр\n",
    "*   Применить TweetTokenizer для изначального выделения токенов\n",
    "*   Удалить стоп-слова, пунктуацию, токены из одного символа, с позицией в таблице Unicode 128 и более и ссылки на t.co\n",
    "\n"
   ]
  },
  {
   "cell_type": "code",
   "execution_count": 38,
   "metadata": {
    "id": "ctEsB6xkFrrK"
   },
   "outputs": [],
   "source": [
    "# так же удалены ссылки на твиты\n",
    "def custom_tokenizer(text):\n",
    "  text = text.lower()\n",
    "  tw = TweetTokenizer()\n",
    "  tokens = tw.tokenize(text)\n",
    "  tokens = list(filter(lambda item: (len(item)>1 or ord(item)<128) and (item not in noise_tw) and not item.startswith('https://t.co'), tokens))\n",
    "  return tokens"
   ]
  },
  {
   "cell_type": "code",
   "execution_count": 39,
   "metadata": {
    "colab": {
     "base_uri": "https://localhost:8080/"
    },
    "id": "XwbgtYkJGYym",
    "outputId": "71d182ed-d10b-4281-e1c9-cb6372135ae3"
   },
   "outputs": [
    {
     "data": {
      "text/plain": [
       "['sample', 'text', '@sample_text', '#sampletext']"
      ]
     },
     "execution_count": 39,
     "metadata": {},
     "output_type": "execute_result"
    }
   ],
   "source": [
    "custom_tokenizer('This is sample text!!!! @Sample_text I, \\x92\\x92 https://t.co/sample  #sampletext')"
   ]
  },
  {
   "cell_type": "markdown",
   "metadata": {
    "id": "wURVABmXHk97"
   },
   "source": [
    "## Задание 3 Векторизация текстов (2 балла)"
   ]
  },
  {
   "cell_type": "markdown",
   "metadata": {
    "id": "H44iXkoHIQfN"
   },
   "source": [
    "Обучите CountVectorizer с использованием custom_tokenizer в качестве токенайзера. Как размер полученного словаря соотносится с размером изначального словаря из начала задания 2?"
   ]
  },
  {
   "cell_type": "code",
   "execution_count": 40,
   "metadata": {
    "colab": {
     "base_uri": "https://localhost:8080/"
    },
    "id": "gHn_limQl3BI",
    "outputId": "0f6d3a70-3d6a-46dd-ce87-9dfc1bf94ac2"
   },
   "outputs": [
    {
     "name": "stderr",
     "output_type": "stream",
     "text": [
      "/Users/syuy/anaconda3/lib/python3.10/site-packages/sklearn/feature_extraction/text.py:525: UserWarning: The parameter 'token_pattern' will not be used since 'tokenizer' is not None'\n",
      "  warnings.warn(\n"
     ]
    }
   ],
   "source": [
    "from sklearn.feature_extraction.text import CountVectorizer\n",
    "\n",
    "cnt_vec = CountVectorizer(tokenizer = custom_tokenizer) # создаем объект CountVectorizer с кастомным токенйзером\n",
    "train_tokenized = cnt_vec.fit_transform(train.OriginalTweet) "
   ]
  },
  {
   "cell_type": "code",
   "execution_count": 41,
   "metadata": {},
   "outputs": [
    {
     "data": {
      "text/plain": [
       "(23410, 45308)"
      ]
     },
     "execution_count": 41,
     "metadata": {},
     "output_type": "execute_result"
    }
   ],
   "source": [
    "train_tokenized.shape"
   ]
  },
  {
   "cell_type": "markdown",
   "metadata": {
    "id": "gsfmaSGoItUm"
   },
   "source": [
    "**Ответ:** Размеры словаря из начала задания 2: 79755 - это простой сплит по пробелам. После этого была проведена работа по обработке нужных/ненужных токенов в функции custom_tokenizer. После применения custom_tokenizer осталось 45308 токенов."
   ]
  },
  {
   "cell_type": "markdown",
   "metadata": {
    "id": "lm6UHNmqKZT0"
   },
   "source": [
    "Посмотрим на какой-нибудь конкретный твитт:"
   ]
  },
  {
   "cell_type": "code",
   "execution_count": 42,
   "metadata": {
    "colab": {
     "base_uri": "https://localhost:8080/"
    },
    "id": "aJVjjfqOJh8m",
    "outputId": "1b297f59-79e4-44b2-ed9d-8c9cf8fcf086"
   },
   "outputs": [
    {
     "data": {
      "text/plain": [
       "('Nice one @SkyNews lets not panic but show ppl in france queueing for food!!! #CoronavirusOutbreak #COVID2019 brainless!! Ffs',\n",
       " 0)"
      ]
     },
     "execution_count": 42,
     "metadata": {},
     "output_type": "execute_result"
    }
   ],
   "source": [
    "ind = 9023 # дано по условию\n",
    "train.iloc[ind]['OriginalTweet'], train.iloc[ind]['Sentiment'] "
   ]
  },
  {
   "cell_type": "markdown",
   "metadata": {
    "id": "PBMIHBI5KdaS"
   },
   "source": [
    "Автор твитта не доволен ситуацией с едой во Франции и текст имеет резко негативную окраску.\n",
    "\n",
    "Примените обученный CountVectorizer для векторизации данного текста, и попытайтесь определить самый важный токен и самый неважный токен (токен, компонента которого в векторе максимальна/минимальна, без учета 0). Хорошо ли они определились, почему?"
   ]
  },
  {
   "cell_type": "code",
   "execution_count": 43,
   "metadata": {
    "colab": {
     "base_uri": "https://localhost:8080/",
     "height": 53
    },
    "id": "Uxd_Bqm6f_X9",
    "outputId": "de5cefac-0aef-46da-b2fb-becb625bec5c"
   },
   "outputs": [
    {
     "data": {
      "text/plain": [
       "'Nice one @SkyNews lets not panic but show ppl in france queueing for food!!! #CoronavirusOutbreak #COVID2019 brainless!! Ffs'"
      ]
     },
     "execution_count": 43,
     "metadata": {},
     "output_type": "execute_result"
    }
   ],
   "source": [
    "line = train.iloc[ind]['OriginalTweet'] # выделяю только текстовую часть\n",
    "line"
   ]
  },
  {
   "cell_type": "code",
   "execution_count": 44,
   "metadata": {
    "colab": {
     "base_uri": "https://localhost:8080/"
    },
    "id": "OFB8BF1sfB2c",
    "outputId": "f22da02b-4078-4319-9674-282b8733c091"
   },
   "outputs": [
    {
     "data": {
      "text/plain": [
       "array(['#coronavirusoutbreak', '#covid2019', '@skynews', 'brainless',\n",
       "       'ffs', 'food', 'france', 'lets', 'nice', 'one', 'panic', 'ppl',\n",
       "       'queueing', 'show'], dtype=object)"
      ]
     },
     "execution_count": 44,
     "metadata": {},
     "output_type": "execute_result"
    }
   ],
   "source": [
    "line_cnt_vec = cnt_vec.transform([line])\n",
    "token_counts = line_cnt_vec.toarray()[0]\n",
    "cnt_vec.get_feature_names_out()[token_counts.nonzero()]"
   ]
  },
  {
   "cell_type": "code",
   "execution_count": 45,
   "metadata": {
    "colab": {
     "base_uri": "https://localhost:8080/"
    },
    "id": "9EP9JWSnumZ8",
    "outputId": "b3e41daa-249b-4552-cf21-cf1eabdcae28"
   },
   "outputs": [
    {
     "data": {
      "text/plain": [
       "array([1, 1, 1, 1, 1, 1, 1, 1, 1, 1, 1, 1, 1, 1])"
      ]
     },
     "execution_count": 45,
     "metadata": {},
     "output_type": "execute_result"
    }
   ],
   "source": [
    "token_counts[token_counts.nonzero()]"
   ]
  },
  {
   "cell_type": "markdown",
   "metadata": {
    "id": "TpEsl1k_NF4T"
   },
   "source": [
    "**Ответ:** Все одинаковые по важности, никто не выделяется, все токены встретились по одному разу"
   ]
  },
  {
   "cell_type": "markdown",
   "metadata": {
    "id": "w4DsEQpLO3J6"
   },
   "source": [
    "Теперь примените TfidfVectorizer и  определите самый важный/неважный токены. Хорошо ли определились, почему?"
   ]
  },
  {
   "cell_type": "code",
   "execution_count": 46,
   "metadata": {
    "id": "MQoPiuEikFEC"
   },
   "outputs": [],
   "source": [
    "from sklearn.feature_extraction.text import TfidfVectorizer"
   ]
  },
  {
   "cell_type": "code",
   "execution_count": 47,
   "metadata": {
    "id": "8N12sjausnh3"
   },
   "outputs": [],
   "source": [
    "tfidf_vec = TfidfVectorizer(tokenizer = custom_tokenizer)\n",
    "train_tokenized_tw = tfidf_vec.fit_transform(train.OriginalTweet)\n",
    "line_tfidf = tfidf_vec.transform([line])"
   ]
  },
  {
   "cell_type": "code",
   "execution_count": 48,
   "metadata": {
    "colab": {
     "base_uri": "https://localhost:8080/"
    },
    "id": "hgySi_XYy15b",
    "outputId": "e2c05868-1282-49e6-dfb8-4cc248b4431a"
   },
   "outputs": [
    {
     "data": {
      "text/plain": [
       "array(['#coronavirusoutbreak', '#covid2019', '@skynews', 'brainless',\n",
       "       'ffs', 'food', 'france', 'lets', 'nice', 'one', 'panic', 'ppl',\n",
       "       'queueing', 'show'], dtype=object)"
      ]
     },
     "execution_count": 48,
     "metadata": {},
     "output_type": "execute_result"
    }
   ],
   "source": [
    "token_counts_2 = line_tfidf.toarray()[0]\n",
    "token_names = tfidf_vec.get_feature_names_out()[token_counts_2.nonzero()]\n",
    "token_names"
   ]
  },
  {
   "cell_type": "code",
   "execution_count": 49,
   "metadata": {},
   "outputs": [
    {
     "data": {
      "text/plain": [
       "array([0.22584265, 0.16825193, 0.31042634, 0.38676412, 0.32447418,\n",
       "       0.11328893, 0.32047314, 0.3012107 , 0.25427292, 0.16306723,\n",
       "       0.1475947 , 0.25500646, 0.35434556, 0.24406492])"
      ]
     },
     "execution_count": 49,
     "metadata": {},
     "output_type": "execute_result"
    }
   ],
   "source": [
    "token_weights = token_counts_2[token_counts.nonzero()]\n",
    "token_weights"
   ]
  },
  {
   "cell_type": "code",
   "execution_count": 50,
   "metadata": {
    "colab": {
     "base_uri": "https://localhost:8080/"
    },
    "id": "SHg5nWr6NQT5",
    "outputId": "f72e610a-e9ed-4201-8e6f-f13b28dc094f"
   },
   "outputs": [
    {
     "data": {
      "text/plain": [
       "(23410, 45308)"
      ]
     },
     "execution_count": 50,
     "metadata": {},
     "output_type": "execute_result"
    }
   ],
   "source": [
    "train_tokenized_tw.shape"
   ]
  },
  {
   "cell_type": "code",
   "execution_count": 51,
   "metadata": {},
   "outputs": [
    {
     "name": "stdout",
     "output_type": "stream",
     "text": [
      "Слово с наименьшим весом: food, вес - 0.11328893069250721\n",
      "Слово с наименьшим весом: brainless, вес - 0.3867641170466375\n"
     ]
    }
   ],
   "source": [
    "print(f'Слово с наименьшим весом: {token_names[np.argmin(token_weights)]}, вес - {min(token_weights)}')\n",
    "print(f'Слово с наименьшим весом: {token_names[np.argmax(token_weights)]}, вес - {max(token_weights)}')"
   ]
  },
  {
   "cell_type": "markdown",
   "metadata": {
    "id": "NYao_UhqQADm"
   },
   "source": [
    "**Ответ:** у часто встречаемых токенов - меньший вес, если вспоминать, то люди действительно были обеспокоены трудностями с походом за продуктами и нехваткой гречки... Это часто обсуждалось в сети\n",
    "\n",
    "brainless - встречалось реже, его применимость менее широкая чем у слова food"
   ]
  },
  {
   "cell_type": "markdown",
   "metadata": {
    "id": "LGRJPqfWSesQ"
   },
   "source": [
    "Найдите какой-нибудь положительно окрашенный твитт, где TfidfVectorizer хорошо (полезно для определения окраски) выделяет важный токен, поясните пример.\n",
    "\n",
    "*Подсказка:* явно положительные твитты можно искать при помощи положительных слов (good, great, amazing и т. д.)"
   ]
  },
  {
   "cell_type": "code",
   "execution_count": 52,
   "metadata": {
    "id": "7ryA6xDm3O70"
   },
   "outputs": [],
   "source": [
    "train.OriginalTweet = train.OriginalTweet.str.lower()\n",
    "# сделала нижний регистр для комментариев"
   ]
  },
  {
   "cell_type": "code",
   "execution_count": 53,
   "metadata": {
    "id": "h2pXtcg921v6"
   },
   "outputs": [],
   "source": [
    "synonyms = np.array([\n",
    "    \"excellent\",\n",
    "    \"great\",\n",
    "    \"fine\",\n",
    "    \"wonderful\",\n",
    "    \"superb\",\n",
    "    \"terrific\",\n",
    "    \"awesome\",\n",
    "    \"fantastic\",\n",
    "    \"outstanding\",\n",
    "    \"positive\"\n",
    "])"
   ]
  },
  {
   "cell_type": "code",
   "execution_count": 54,
   "metadata": {
    "colab": {
     "base_uri": "https://localhost:8080/"
    },
    "id": "SifmpTgxiHyS",
    "outputId": "5b550a10-4036-4a5e-81fb-bdd5cf2b988f"
   },
   "outputs": [
    {
     "name": "stdout",
     "output_type": "stream",
     "text": [
      "excellent = 26\n",
      "great = 466\n",
      "fine = 67\n",
      "wonderful = 20\n",
      "superb = 6\n",
      "terrific = 3\n",
      "awesome = 32\n",
      "fantastic = 10\n",
      "outstanding = 6\n",
      "positive = 214\n"
     ]
    }
   ],
   "source": [
    "for i in synonyms:\n",
    "    cnt = train[train['OriginalTweet'].apply(lambda x: i in x) & (train['Sentiment'] == 1)].shape[0]\n",
    "    print(f'{i} = {cnt}')\n",
    "\n",
    "  # ищем количество повторов для каждого слова синонима"
   ]
  },
  {
   "cell_type": "code",
   "execution_count": 55,
   "metadata": {
    "colab": {
     "base_uri": "https://localhost:8080/",
     "height": 224
    },
    "id": "UL5sd5hE1ghQ",
    "outputId": "9d52efff-e1a1-45aa-e7ce-0ffd5cf3159c"
   },
   "outputs": [
    {
     "name": "stdout",
     "output_type": "stream",
     "text": [
      "Размерность таблицы для слова: fantastic = (10, 6)\n"
     ]
    },
    {
     "data": {
      "text/html": [
       "<div>\n",
       "<style scoped>\n",
       "    .dataframe tbody tr th:only-of-type {\n",
       "        vertical-align: middle;\n",
       "    }\n",
       "\n",
       "    .dataframe tbody tr th {\n",
       "        vertical-align: top;\n",
       "    }\n",
       "\n",
       "    .dataframe thead th {\n",
       "        text-align: right;\n",
       "    }\n",
       "</style>\n",
       "<table border=\"1\" class=\"dataframe\">\n",
       "  <thead>\n",
       "    <tr style=\"text-align: right;\">\n",
       "      <th></th>\n",
       "      <th>UserName</th>\n",
       "      <th>ScreenName</th>\n",
       "      <th>Location</th>\n",
       "      <th>TweetAt</th>\n",
       "      <th>OriginalTweet</th>\n",
       "      <th>Sentiment</th>\n",
       "    </tr>\n",
       "  </thead>\n",
       "  <tbody>\n",
       "    <tr>\n",
       "      <th>9322</th>\n",
       "      <td>15113</td>\n",
       "      <td>60065</td>\n",
       "      <td>Toronto, Ontario</td>\n",
       "      <td>20-03-2020</td>\n",
       "      <td>for all the grocery store workers during this ...</td>\n",
       "      <td>1</td>\n",
       "    </tr>\n",
       "    <tr>\n",
       "      <th>7864</th>\n",
       "      <td>13356</td>\n",
       "      <td>58308</td>\n",
       "      <td>UK</td>\n",
       "      <td>20-03-2020</td>\n",
       "      <td>fantastic scheme for artists and even better f...</td>\n",
       "      <td>1</td>\n",
       "    </tr>\n",
       "    <tr>\n",
       "      <th>24712</th>\n",
       "      <td>34041</td>\n",
       "      <td>78993</td>\n",
       "      <td>Sanibel, FL</td>\n",
       "      <td>06-04-2020</td>\n",
       "      <td>check out our on over amp items at fantastic p...</td>\n",
       "      <td>1</td>\n",
       "    </tr>\n",
       "    <tr>\n",
       "      <th>24489</th>\n",
       "      <td>33756</td>\n",
       "      <td>78708</td>\n",
       "      <td>Chicago, IL</td>\n",
       "      <td>06-04-2020</td>\n",
       "      <td>thanks @aldiusa for the fantastic online shopp...</td>\n",
       "      <td>1</td>\n",
       "    </tr>\n",
       "    <tr>\n",
       "      <th>2631</th>\n",
       "      <td>6980</td>\n",
       "      <td>51932</td>\n",
       "      <td>Unknown</td>\n",
       "      <td>18-03-2020</td>\n",
       "      <td>@thesun the panic buying will continue for wee...</td>\n",
       "      <td>1</td>\n",
       "    </tr>\n",
       "  </tbody>\n",
       "</table>\n",
       "</div>"
      ],
      "text/plain": [
       "       UserName  ScreenName          Location     TweetAt  \\\n",
       "9322      15113       60065  Toronto, Ontario  20-03-2020   \n",
       "7864      13356       58308                UK  20-03-2020   \n",
       "24712     34041       78993       Sanibel, FL  06-04-2020   \n",
       "24489     33756       78708       Chicago, IL  06-04-2020   \n",
       "2631       6980       51932           Unknown  18-03-2020   \n",
       "\n",
       "                                           OriginalTweet  Sentiment  \n",
       "9322   for all the grocery store workers during this ...          1  \n",
       "7864   fantastic scheme for artists and even better f...          1  \n",
       "24712  check out our on over amp items at fantastic p...          1  \n",
       "24489  thanks @aldiusa for the fantastic online shopp...          1  \n",
       "2631   @thesun the panic buying will continue for wee...          1  "
      ]
     },
     "execution_count": 55,
     "metadata": {},
     "output_type": "execute_result"
    }
   ],
   "source": [
    "word = 'fantastic'\n",
    "positive_tweets = train[train['OriginalTweet'].apply(lambda x: word in x) & (train['Sentiment'] == 1)]\n",
    "print(f'Размерность таблицы для слова: {word} = {positive_tweets.shape}')\n",
    "positive_tweets.head()"
   ]
  },
  {
   "cell_type": "markdown",
   "metadata": {
    "id": "RATV-xmQZHE6"
   },
   "source": [
    "Выбираю рандомно индекс твита, пусть это будет самая первая строка под номером 9322"
   ]
  },
  {
   "cell_type": "code",
   "execution_count": 56,
   "metadata": {
    "colab": {
     "base_uri": "https://localhost:8080/",
     "height": 70
    },
    "id": "WssoEIRqjERV",
    "outputId": "4c56c19f-0554-49cd-f79d-8c5e5710e565"
   },
   "outputs": [
    {
     "data": {
      "text/plain": [
       "'for all the grocery store workers during this time .. thank you ? ...also a great time to ask for a minimum wage increase for your fantastic work ? #coronacrisis #onpoli'"
      ]
     },
     "execution_count": 56,
     "metadata": {},
     "output_type": "execute_result"
    }
   ],
   "source": [
    "positive_tweet_9322 = positive_tweets.loc[9322].OriginalTweet\n",
    "positive_tweet_9322"
   ]
  },
  {
   "cell_type": "code",
   "execution_count": 57,
   "metadata": {
    "colab": {
     "base_uri": "https://localhost:8080/"
    },
    "id": "zSHu-UgrjX4G",
    "outputId": "f028d696-f531-40d9-d342-178f8a452110"
   },
   "outputs": [],
   "source": [
    "positive_tweet__tfidf = tfidf_vec.transform([positive_tweet_9322]) # применяем обученный ранее векторайзер"
   ]
  },
  {
   "cell_type": "code",
   "execution_count": 58,
   "metadata": {
    "colab": {
     "base_uri": "https://localhost:8080/"
    },
    "id": "Z4k8OBVljqLa",
    "outputId": "054e16d4-fd82-4c20-eb7d-35f744771192"
   },
   "outputs": [
    {
     "data": {
      "text/plain": [
       "array(['#coronacrisis', '#onpoli', '..', '...', 'also', 'ask',\n",
       "       'fantastic', 'great', 'grocery', 'increase', 'minimum', 'store',\n",
       "       'thank', 'time', 'wage', 'work', 'workers'], dtype=object)"
      ]
     },
     "execution_count": 58,
     "metadata": {},
     "output_type": "execute_result"
    }
   ],
   "source": [
    "token_counts_3 = positive_tweet__tfidf.toarray()[0]\n",
    "token_names = tfidf_vec.get_feature_names_out()[token_counts_3.nonzero()] # достаем наши токены\n",
    "token_names"
   ]
  },
  {
   "cell_type": "code",
   "execution_count": 59,
   "metadata": {
    "colab": {
     "base_uri": "https://localhost:8080/"
    },
    "id": "NP3nYz0okan3",
    "outputId": "42a5a27d-cf96-45cd-ce9b-382001e474c9"
   },
   "outputs": [
    {
     "data": {
      "text/plain": [
       "array([0.20981663, 0.38022766, 0.22459351, 0.16461905, 0.19347848,\n",
       "       0.26122944, 0.36306252, 0.21234771, 0.12441615, 0.21825944,\n",
       "       0.29025633, 0.12072314, 0.1999188 , 0.32630056, 0.28840197,\n",
       "       0.18118735, 0.16400619])"
      ]
     },
     "execution_count": 59,
     "metadata": {},
     "output_type": "execute_result"
    }
   ],
   "source": [
    "token_weights = token_counts_3[token_counts_3.nonzero()]\n",
    "token_weights"
   ]
  },
  {
   "cell_type": "code",
   "execution_count": 60,
   "metadata": {},
   "outputs": [
    {
     "name": "stdout",
     "output_type": "stream",
     "text": [
      "Слово fantastic, вес - [0.36306252]\n"
     ]
    }
   ],
   "source": [
    "word = 'fantastic'\n",
    "print(f'Слово {word}, вес - {token_weights[token_names == word]}')"
   ]
  },
  {
   "cell_type": "markdown",
   "metadata": {
    "id": "JTv9ST2_U6NA"
   },
   "source": [
    "**Ответ:** гпт составил список из слов, которые могут быть в положительных твитах, опытным путем было выбрано слово fantastic, оно встречается всего в 10 положительных твитах, tfidf векторайзер считает слово достаточно важным, в строке 9322 у него вес 0.36306252.\n",
    "\n",
    "Прилагательные из списка synonyms, которые встречались реже (чем 10 раз), как правило обладалили достаточно небольшим весом, видимо tfidf считал, что настолько редкие слова могут быть просто ошибочно написанными собратьями других слов и давал им малый вес, так как они почти не использовались"
   ]
  },
  {
   "cell_type": "markdown",
   "metadata": {
    "id": "JVEuZm8BHms6"
   },
   "source": [
    "## Задание 4 Обучение первых моделей (1 балл)"
   ]
  },
  {
   "cell_type": "markdown",
   "metadata": {
    "id": "JADkO3sfXdOG"
   },
   "source": [
    "Примените оба векторайзера для получения матриц с признаками текстов.  Выделите целевую переменную."
   ]
  },
  {
   "cell_type": "code",
   "execution_count": 61,
   "metadata": {
    "id": "DguoiXhCX2oN"
   },
   "outputs": [],
   "source": [
    "X_train, X_test, y_train, y_test = train_test_split(df.drop(['Sentiment'], axis = 1), df['Sentiment'], test_size = 0.3, random_state=0)"
   ]
  },
  {
   "cell_type": "code",
   "execution_count": 62,
   "metadata": {
    "colab": {
     "base_uri": "https://localhost:8080/"
    },
    "id": "jj_JTSbJd3tk",
    "outputId": "1d4f768c-850a-4078-9fa4-0fbeaee1da4e"
   },
   "outputs": [
    {
     "data": {
      "text/plain": [
       "<10034x45308 sparse matrix of type '<class 'numpy.int64'>'\n",
       "\twith 177991 stored elements in Compressed Sparse Row format>"
      ]
     },
     "execution_count": 62,
     "metadata": {},
     "output_type": "execute_result"
    }
   ],
   "source": [
    "bow_test = cnt_vec.transform(X_test.OriginalTweet) # Count Vectorizer\n",
    "bow_test"
   ]
  },
  {
   "cell_type": "code",
   "execution_count": 63,
   "metadata": {
    "colab": {
     "base_uri": "https://localhost:8080/"
    },
    "id": "wVh_b5RUPgU5",
    "outputId": "8255a98d-cc57-43eb-f694-28552ea643be"
   },
   "outputs": [
    {
     "data": {
      "text/plain": [
       "<10034x45308 sparse matrix of type '<class 'numpy.float64'>'\n",
       "\twith 177991 stored elements in Compressed Sparse Row format>"
      ]
     },
     "execution_count": 63,
     "metadata": {},
     "output_type": "execute_result"
    }
   ],
   "source": [
    "bow_test_tfidf = tfidf_vec.transform(X_test.OriginalTweet) # Tfidf Vectorizer\n",
    "bow_test_tfidf"
   ]
  },
  {
   "cell_type": "markdown",
   "metadata": {
    "id": "_FX1KSOfYSx4"
   },
   "source": [
    "Обучите логистическую регрессию на векторах из обоих векторайзеров. Посчитайте долю правильных ответов на обучающих и тестовых данных. Какой векторайзер показал лучший результат? Что можно сказать о моделях?"
   ]
  },
  {
   "cell_type": "code",
   "execution_count": 64,
   "metadata": {
    "id": "-Tb3eh8UXJ6v"
   },
   "outputs": [],
   "source": [
    "from sklearn.linear_model import LogisticRegression\n",
    "from sklearn.metrics import accuracy_score\n",
    "from sklearn.metrics import classification_report, roc_auc_score\n",
    "\n",
    "\n",
    "clf = LogisticRegression(max_iter=200, random_state=0) # Count Vectorizer\n",
    "clf.fit(train_tokenized,y_train)\n",
    "pred = clf.predict(bow_test)"
   ]
  },
  {
   "cell_type": "code",
   "execution_count": 65,
   "metadata": {},
   "outputs": [
    {
     "name": "stdout",
     "output_type": "stream",
     "text": [
      "Accuracy Count Vectorizer: 0.8673510065776361\n"
     ]
    }
   ],
   "source": [
    "accuracy_1_cv = (y_test == pred).mean() # зафиксирую, чтобы потом сравнивать\n",
    "print(f'Accuracy Count Vectorizer: {accuracy_1_cv}')"
   ]
  },
  {
   "cell_type": "code",
   "execution_count": 66,
   "metadata": {
    "colab": {
     "base_uri": "https://localhost:8080/"
    },
    "id": "Ot4_FLo-eQqj",
    "outputId": "04d27510-4658-4939-e68e-a775a7350456"
   },
   "outputs": [
    {
     "name": "stdout",
     "output_type": "stream",
     "text": [
      "              precision    recall  f1-score   support\n",
      "\n",
      "           0       0.86      0.85      0.85      4552\n",
      "           1       0.87      0.89      0.88      5482\n",
      "\n",
      "    accuracy                           0.87     10034\n",
      "   macro avg       0.87      0.87      0.87     10034\n",
      "weighted avg       0.87      0.87      0.87     10034\n",
      "\n"
     ]
    }
   ],
   "source": [
    "print(classification_report(y_test, pred))"
   ]
  },
  {
   "cell_type": "code",
   "execution_count": 67,
   "metadata": {
    "id": "r-JB4890fvB2"
   },
   "outputs": [],
   "source": [
    "clf_2 = LogisticRegression(max_iter=200, random_state=0) # Tfidf Vectorizer\n",
    "clf_2.fit(train_tokenized_tw,y_train)\n",
    "pred_2 = clf_2.predict(bow_test_tfidf)"
   ]
  },
  {
   "cell_type": "code",
   "execution_count": 68,
   "metadata": {
    "colab": {
     "base_uri": "https://localhost:8080/"
    },
    "id": "VWKxUb1LgfJc",
    "outputId": "700c4502-a8f5-4edd-dcc6-15727bf380bf"
   },
   "outputs": [
    {
     "name": "stdout",
     "output_type": "stream",
     "text": [
      "              precision    recall  f1-score   support\n",
      "\n",
      "           0       0.85      0.82      0.83      4552\n",
      "           1       0.85      0.88      0.87      5482\n",
      "\n",
      "    accuracy                           0.85     10034\n",
      "   macro avg       0.85      0.85      0.85     10034\n",
      "weighted avg       0.85      0.85      0.85     10034\n",
      "\n"
     ]
    }
   ],
   "source": [
    "print(classification_report(y_test, pred_2))"
   ]
  },
  {
   "cell_type": "code",
   "execution_count": 69,
   "metadata": {},
   "outputs": [
    {
     "name": "stdout",
     "output_type": "stream",
     "text": [
      "Accuracy Tfidf: 0.8534981064381104\n"
     ]
    }
   ],
   "source": [
    "accuracy_2_tfidf = (y_test == pred_2).mean()# accuracy\n",
    "print(f'Accuracy Tfidf: {accuracy_2_tfidf}')"
   ]
  },
  {
   "cell_type": "markdown",
   "metadata": {
    "id": "8y_wO7rCmv7K"
   },
   "source": [
    "**Ответ:** Accuracy больше у обычного Count Vectorizer, примерно на 0.014% окруленно. По видимому, при данном разбинии датасета лучше работает только подсчет частоты встречаемости слова в документе, а не учет его важность в контексте (как в tfidf)."
   ]
  },
  {
   "cell_type": "code",
   "execution_count": 70,
   "metadata": {},
   "outputs": [
    {
     "name": "stdout",
     "output_type": "stream",
     "text": [
      "Accuracy разница: 0.01385290013952567\n"
     ]
    }
   ],
   "source": [
    "print(f'Accuracy разница: {accuracy_1_cv - accuracy_2_tfidf}')"
   ]
  },
  {
   "cell_type": "markdown",
   "metadata": {
    "id": "rSOR1i3mjrys"
   },
   "source": [
    "## Задание 5 Стемминг (0.5 балла)"
   ]
  },
  {
   "cell_type": "markdown",
   "metadata": {
    "id": "i6ONBWNPjuq-"
   },
   "source": [
    "Для уменьшения словаря можно использовать стемминг.\n",
    "\n",
    "Модифицируйте написанный токенайзер, добавив в него стемминг с использованием SnowballStemmer. Обучите Count- и Tfidf- векторайзеры. Как изменился размер словаря?"
   ]
  },
  {
   "cell_type": "code",
   "execution_count": 71,
   "metadata": {
    "id": "Uxg6vdPIcdGd"
   },
   "outputs": [],
   "source": [
    "from nltk.stem.snowball import SnowballStemmer"
   ]
  },
  {
   "cell_type": "code",
   "execution_count": 72,
   "metadata": {
    "id": "h1e52qjbaujh"
   },
   "outputs": [],
   "source": [
    "def custom_stem_tokenizer(text):\n",
    "  tokens = custom_tokenizer(text)\n",
    "  stemmer = SnowballStemmer('english')\n",
    "  tokens = [stemmer.stem(w) for w in tokens]\n",
    "  return tokens"
   ]
  },
  {
   "cell_type": "code",
   "execution_count": 73,
   "metadata": {
    "colab": {
     "base_uri": "https://localhost:8080/"
    },
    "id": "9QmrjYtqnlPd",
    "outputId": "7ecdabeb-c27c-445f-a7e8-5921d4cdbfd2"
   },
   "outputs": [
    {
     "data": {
      "text/plain": [
       "['sampl', 'text', '@sample_text', '#sampletext', 'ad', 'word', 'check', 'stem']"
      ]
     },
     "execution_count": 73,
     "metadata": {},
     "output_type": "execute_result"
    }
   ],
   "source": [
    "custom_stem_tokenizer('This is sample text!!!! @Sample_text I, \\x92\\x92 https://t.co/sample  #sampletext adding more words to check stemming')"
   ]
  },
  {
   "cell_type": "code",
   "execution_count": 74,
   "metadata": {
    "colab": {
     "base_uri": "https://localhost:8080/"
    },
    "id": "zAvUTmaplzOS",
    "outputId": "96a56eeb-7dba-41e5-8ade-ab2ad546764f"
   },
   "outputs": [
    {
     "name": "stderr",
     "output_type": "stream",
     "text": [
      "/Users/syuy/anaconda3/lib/python3.10/site-packages/sklearn/feature_extraction/text.py:525: UserWarning: The parameter 'token_pattern' will not be used since 'tokenizer' is not None'\n",
      "  warnings.warn(\n"
     ]
    }
   ],
   "source": [
    "cv = CountVectorizer(tokenizer = custom_stem_tokenizer) # Count Vectorizer\n",
    "train_tokenized_2 = cv.fit_transform(train.OriginalTweet)"
   ]
  },
  {
   "cell_type": "code",
   "execution_count": 75,
   "metadata": {
    "colab": {
     "base_uri": "https://localhost:8080/"
    },
    "id": "RORsJlFjfhB4",
    "outputId": "d8ceffd7-3dfa-478d-d3bc-e8d6654a229d"
   },
   "outputs": [
    {
     "data": {
      "text/plain": [
       "(23410, 36652)"
      ]
     },
     "execution_count": 75,
     "metadata": {},
     "output_type": "execute_result"
    }
   ],
   "source": [
    "train_tokenized_2.shape"
   ]
  },
  {
   "cell_type": "code",
   "execution_count": 76,
   "metadata": {
    "id": "sG2-isf1LYw_"
   },
   "outputs": [],
   "source": [
    "tv = TfidfVectorizer(tokenizer = custom_stem_tokenizer) # Tfidf Vectorizer\n",
    "train_tokenized_3 = tv.fit_transform(train.OriginalTweet)"
   ]
  },
  {
   "cell_type": "code",
   "execution_count": 77,
   "metadata": {
    "colab": {
     "base_uri": "https://localhost:8080/"
    },
    "id": "glu9tSWNMgp6",
    "outputId": "d9d0f2bc-5b93-4c77-9d2b-030c5bf97b54"
   },
   "outputs": [
    {
     "data": {
      "text/plain": [
       "(23410, 36652)"
      ]
     },
     "execution_count": 77,
     "metadata": {},
     "output_type": "execute_result"
    }
   ],
   "source": [
    "train_tokenized_3.shape"
   ]
  },
  {
   "cell_type": "markdown",
   "metadata": {
    "id": "Oyzs5TaAoHP6"
   },
   "source": [
    "**Ответ:** размер словаря уменьшился, так как отбросили окончания и суффиксы слов и привели к общему корню"
   ]
  },
  {
   "cell_type": "markdown",
   "metadata": {
    "id": "1OkncHI8oRmd"
   },
   "source": [
    "Обучите логистическую регрессию с использованием обоих векторайзеров. Изменилось ли качество? Есть ли смысл применять стемминг?"
   ]
  },
  {
   "cell_type": "code",
   "execution_count": 78,
   "metadata": {
    "colab": {
     "base_uri": "https://localhost:8080/"
    },
    "id": "UtGSWj-fN8fP",
    "outputId": "26d3818f-a37b-423b-8843-5a0181bea146"
   },
   "outputs": [
    {
     "data": {
      "text/plain": [
       "<10034x36652 sparse matrix of type '<class 'numpy.int64'>'\n",
       "\twith 177963 stored elements in Compressed Sparse Row format>"
      ]
     },
     "execution_count": 78,
     "metadata": {},
     "output_type": "execute_result"
    }
   ],
   "source": [
    "bow_test_2 = cv.transform(X_test.OriginalTweet) # Count Vectorizer\n",
    "bow_test_2"
   ]
  },
  {
   "cell_type": "code",
   "execution_count": 79,
   "metadata": {
    "colab": {
     "base_uri": "https://localhost:8080/"
    },
    "id": "-mwbq-lpN7f7",
    "outputId": "e1f7d89a-13f5-4b42-a18b-d53909d83083"
   },
   "outputs": [
    {
     "data": {
      "text/plain": [
       "<10034x36652 sparse matrix of type '<class 'numpy.float64'>'\n",
       "\twith 177963 stored elements in Compressed Sparse Row format>"
      ]
     },
     "execution_count": 79,
     "metadata": {},
     "output_type": "execute_result"
    }
   ],
   "source": [
    "bow_test_tfidf_2 = tv.transform(X_test.OriginalTweet) # Tfidf Vectorizer\n",
    "bow_test_tfidf_2"
   ]
  },
  {
   "cell_type": "code",
   "execution_count": 80,
   "metadata": {
    "colab": {
     "base_uri": "https://localhost:8080/"
    },
    "id": "CeR847_ZjBRy",
    "outputId": "f1ba479e-e14d-40ba-f64e-6060e0200f02"
   },
   "outputs": [
    {
     "data": {
      "text/plain": [
       "array([1, 0, 1, ..., 0, 1, 1])"
      ]
     },
     "execution_count": 80,
     "metadata": {},
     "output_type": "execute_result"
    }
   ],
   "source": [
    "clf_3= LogisticRegression(max_iter=200, random_state=0) # Count Vectorizer\n",
    "bow_test_2\n",
    "clf_3.fit(train_tokenized_2,y_train)\n",
    "pred_3 = clf_3.predict(bow_test_2)\n",
    "pred_3"
   ]
  },
  {
   "cell_type": "code",
   "execution_count": 81,
   "metadata": {
    "colab": {
     "base_uri": "https://localhost:8080/"
    },
    "id": "7qeZJoMROktQ",
    "outputId": "9ac62486-cd6d-4fdf-d46d-b1baf59142dd"
   },
   "outputs": [
    {
     "name": "stdout",
     "output_type": "stream",
     "text": [
      "              precision    recall  f1-score   support\n",
      "\n",
      "           0       0.86      0.84      0.85      4552\n",
      "           1       0.87      0.89      0.88      5482\n",
      "\n",
      "    accuracy                           0.87     10034\n",
      "   macro avg       0.87      0.86      0.87     10034\n",
      "weighted avg       0.87      0.87      0.87     10034\n",
      "\n"
     ]
    }
   ],
   "source": [
    "print(classification_report(y_test, pred_3))"
   ]
  },
  {
   "cell_type": "code",
   "execution_count": 82,
   "metadata": {},
   "outputs": [
    {
     "name": "stdout",
     "output_type": "stream",
     "text": [
      "Accuracy после стемминга Count Vectorizer: 0.8669523619693044\n"
     ]
    }
   ],
   "source": [
    "accuracy_3_cv = (y_test == pred_3).mean() # accuracy\n",
    "print(f'Accuracy после стемминга Count Vectorizer: {accuracy_3_cv}')"
   ]
  },
  {
   "cell_type": "code",
   "execution_count": 83,
   "metadata": {
    "colab": {
     "base_uri": "https://localhost:8080/"
    },
    "id": "KD0vAk2YOxmd",
    "outputId": "3a47367b-ba01-46f7-c1df-f463ed983fc2"
   },
   "outputs": [
    {
     "data": {
      "text/plain": [
       "array([1, 0, 1, ..., 0, 1, 1])"
      ]
     },
     "execution_count": 83,
     "metadata": {},
     "output_type": "execute_result"
    }
   ],
   "source": [
    "clf_4 = LogisticRegression(max_iter = 200, random_state = 0) # Tfidf векторайзер \n",
    "clf_4.fit(train_tokenized_3,y_train)\n",
    "pred_4 = clf_4.predict(bow_test_tfidf_2)\n",
    "pred_4"
   ]
  },
  {
   "cell_type": "code",
   "execution_count": 84,
   "metadata": {
    "colab": {
     "base_uri": "https://localhost:8080/"
    },
    "id": "HSv4LfXaPx1Z",
    "outputId": "6d023162-8feb-42ae-8d06-9d0a47352b84"
   },
   "outputs": [
    {
     "name": "stdout",
     "output_type": "stream",
     "text": [
      "              precision    recall  f1-score   support\n",
      "\n",
      "           0       0.86      0.82      0.84      4552\n",
      "           1       0.86      0.89      0.87      5482\n",
      "\n",
      "    accuracy                           0.86     10034\n",
      "   macro avg       0.86      0.85      0.85     10034\n",
      "weighted avg       0.86      0.86      0.86     10034\n",
      "\n"
     ]
    }
   ],
   "source": [
    "print(classification_report(y_test, pred_4))"
   ]
  },
  {
   "cell_type": "code",
   "execution_count": 85,
   "metadata": {},
   "outputs": [
    {
     "name": "stdout",
     "output_type": "stream",
     "text": [
      "Accuracy после стемминга Tfidf: 0.8567869244568467\n"
     ]
    }
   ],
   "source": [
    "accuracy_4_tfidf = (y_test == pred_4).mean() # accuracy\n",
    "print(f'Accuracy после стемминга Tfidf: {accuracy_4_tfidf}')"
   ]
  },
  {
   "cell_type": "markdown",
   "metadata": {
    "id": "bCRlrODro0h8"
   },
   "source": [
    "**Ответ:** TfidfVectorizer опять работает немного хуже, лучший результат по доле верных ответов был получен в начале через Count Vectorizer. Качество работы логрега после стемминга практически осталось тем же (случай с Count Vectorizer), а у tfidf немного улучшилось. Посмотрим дельты со значениям accuraсy из номера 4 выше.\n",
    "\n",
    "Количество токенов в токенайзере уменьшилось: качество осталось почти такое же. Можно применять со стеммингом вариант: модели с ним и без дают примерно одинаковые результаты, но с модифицированной токенизацией модели \"более легкие\". (у нас просто меньше токенов будет, я про это)."
   ]
  },
  {
   "cell_type": "code",
   "execution_count": 86,
   "metadata": {},
   "outputs": [
    {
     "name": "stdout",
     "output_type": "stream",
     "text": [
      "Count Vectorizer: изменение на после стемминга -0.0003986446083317219\n",
      "Tfidf Vectorizer: изменение на после стемминга 0.0032888180187362615\n",
      "Изменение в количестве токенов после стемминга -8656\n"
     ]
    }
   ],
   "source": [
    "print(f'Count Vectorizer: изменение на после стемминга {accuracy_3_cv - accuracy_1_cv}')\n",
    "print(f'Tfidf Vectorizer: изменение на после стемминга {accuracy_4_tfidf - accuracy_2_tfidf}')\n",
    "print(f'Изменение в количестве токенов после стемминга {36652 - 45308}')"
   ]
  },
  {
   "cell_type": "markdown",
   "metadata": {
    "id": "hYWGQNEDqLC-"
   },
   "source": [
    "## Задание  6 Работа с частотами (1.5 балла)"
   ]
  },
  {
   "cell_type": "markdown",
   "metadata": {
    "id": "8Hq-tl5mqUSn"
   },
   "source": [
    "Еще один способ уменьшить количество признаков - это использовать параметры min_df и max_df при построении векторайзера  эти параметры помогают ограничить требуемую частоту встречаемости токена в документах.\n",
    "\n",
    "По умолчанию берутся все токены, которые встретились хотя бы один раз.\n",
    "\n"
   ]
  },
  {
   "cell_type": "markdown",
   "metadata": {
    "id": "m1SiD4DE3WZ2"
   },
   "source": [
    "Подберите max_df такой, что размер словаря будет 36651 (на 1 меньше, чем было). Почему параметр получился такой большой/маленький?"
   ]
  },
  {
   "cell_type": "code",
   "execution_count": 87,
   "metadata": {
    "colab": {
     "base_uri": "https://localhost:8080/"
    },
    "id": "qDwjnbBHtOFh",
    "outputId": "fb67de88-6b71-414c-d985-d23b45a65f77"
   },
   "outputs": [
    {
     "name": "stderr",
     "output_type": "stream",
     "text": [
      "/Users/syuy/anaconda3/lib/python3.10/site-packages/sklearn/feature_extraction/text.py:525: UserWarning: The parameter 'token_pattern' will not be used since 'tokenizer' is not None'\n",
      "  warnings.warn(\n"
     ]
    },
    {
     "name": "stdout",
     "output_type": "stream",
     "text": [
      "36651\n"
     ]
    }
   ],
   "source": [
    "cv_df = CountVectorizer(tokenizer=custom_stem_tokenizer,\n",
    "                        max_df=8760).fit(train.OriginalTweet)\n",
    "print(len(cv_df.vocabulary_))"
   ]
  },
  {
   "cell_type": "code",
   "execution_count": 88,
   "metadata": {
    "scrolled": true
   },
   "outputs": [],
   "source": [
    "# kek = cv.transform(train.OriginalTweet)\n",
    "# tokenss = np.where(kek.toarray()!=0, 1, 0) # здесь ищу факт \"слово встречалось в предложении или нет\"\n",
    "# # а не количество его встреч\n",
    "# tokenss.sum(axis = 0).max()\n",
    "\n",
    "# Output: 8761"
   ]
  },
  {
   "cell_type": "markdown",
   "metadata": {
    "id": "UdZYoGZR4UsA"
   },
   "source": [
    "**Ответ:** посмотрела выше в скольких документах встречается самый популярный токен, потом поставила ограничение через max_df на него: если частота повторов больше 8760, то токен будет игнорироваться. "
   ]
  },
  {
   "cell_type": "markdown",
   "metadata": {
    "id": "_gRIUaB1u32f"
   },
   "source": [
    "Подберите min_df (используйте дефолтное значение max_df) в CountVectorizer таким образом, чтобы размер словаря был 3700 токенов (при использовании токенайзера со стеммингом), а качество осталось таким же, как и было. Что можно сказать о результатах?"
   ]
  },
  {
   "cell_type": "code",
   "execution_count": 89,
   "metadata": {
    "id": "kSnMJkn9XmsT"
   },
   "outputs": [],
   "source": [
    "cv_df = CountVectorizer(tokenizer=custom_stem_tokenizer,\n",
    "                        min_df=0.00044444)\n",
    "cv_df_bow_train = cv_df.fit_transform(train.OriginalTweet)"
   ]
  },
  {
   "cell_type": "code",
   "execution_count": 90,
   "metadata": {},
   "outputs": [
    {
     "data": {
      "text/plain": [
       "(23410, 3700)"
      ]
     },
     "execution_count": 90,
     "metadata": {},
     "output_type": "execute_result"
    }
   ],
   "source": [
    "cv_df_bow_train.shape"
   ]
  },
  {
   "cell_type": "code",
   "execution_count": 91,
   "metadata": {
    "scrolled": true
   },
   "outputs": [],
   "source": [
    "# initial = np.linspace(0.0004, 0.0005, 10)\n",
    "\n",
    "# array([0.0004    , 0.00041111, 0.00042222, 0.00043333, 0.00044444,\n",
    "#        0.00045556, 0.00046667, 0.00047778])"
   ]
  },
  {
   "cell_type": "code",
   "execution_count": 92,
   "metadata": {
    "id": "mvMDwpdfjm8Y"
   },
   "outputs": [],
   "source": [
    "# for i in initial:\n",
    "#     print(get_vocab_size(i))\n",
    "\n",
    "# # 3931\n",
    "# # 3931\n",
    "# # 3931\n",
    "# # 3700\n",
    "# # 3700\n",
    "# # 3700\n",
    "# # 3700\n",
    "# # 3489"
   ]
  },
  {
   "cell_type": "markdown",
   "metadata": {
    "id": "3fGYpUIZx0fk"
   },
   "source": [
    "**Ответ:** Методом подбора был найден нижний порог, дающий значение 3700 токенов. Интервал [0.00044444 - 0.00046667] плюс минус. Но способ не элегантен, конечно."
   ]
  },
  {
   "cell_type": "markdown",
   "metadata": {
    "id": "Gx_h_-inKbBl"
   },
   "source": [
    "В предыдущих заданиях признаки не скалировались. Отскалируйте данные (при словаре размера 3.7 тысяч, векторизованные CountVectorizer), обучите логистическую регрессию, посмотрите качество и выведите `berplot` содержащий по 10 токенов, с наибольшим по модулю положительными/отрицательными весами. Что можно сказать об этих токенах?"
   ]
  },
  {
   "cell_type": "code",
   "execution_count": 93,
   "metadata": {
    "id": "KBATXJX6LG9q"
   },
   "outputs": [],
   "source": [
    "from sklearn.preprocessing import StandardScaler"
   ]
  },
  {
   "cell_type": "code",
   "execution_count": 94,
   "metadata": {
    "scrolled": true
   },
   "outputs": [],
   "source": [
    "scaler = StandardScaler(with_mean=False)\n",
    "\n",
    "cv_df_bow_test = cv_df.transform(X_test.OriginalTweet) # веторизовали тест\n",
    "\n",
    "cv_df_bow_train = scaler.fit_transform(cv_df_bow_train)  # теперь скалируем\n",
    "cv_df_bow_test = scaler.transform(cv_df_bow_test)"
   ]
  },
  {
   "cell_type": "code",
   "execution_count": 95,
   "metadata": {},
   "outputs": [],
   "source": [
    "clf_5 = LogisticRegression() # обучаем логрег после скалинга\n",
    "clf_5.fit(cv_df_bow_train,y_train)\n",
    "pred_5 = clf_5.predict(cv_df_bow_test)"
   ]
  },
  {
   "cell_type": "code",
   "execution_count": 96,
   "metadata": {},
   "outputs": [
    {
     "name": "stdout",
     "output_type": "stream",
     "text": [
      "              precision    recall  f1-score   support\n",
      "\n",
      "           0       0.83      0.82      0.83      4552\n",
      "           1       0.85      0.86      0.86      5482\n",
      "\n",
      "    accuracy                           0.84     10034\n",
      "   macro avg       0.84      0.84      0.84     10034\n",
      "weighted avg       0.84      0.84      0.84     10034\n",
      "\n"
     ]
    }
   ],
   "source": [
    "print(classification_report(y_test, pred_5))"
   ]
  },
  {
   "cell_type": "code",
   "execution_count": 97,
   "metadata": {},
   "outputs": [
    {
     "name": "stdout",
     "output_type": "stream",
     "text": [
      "Accuracy после скалинга Count Vectorizer 3700: 0.8446282639027307\n",
      "Accuracy после стемминга Count Vectorizer: 0.8669523619693044\n",
      "Accuracy Count Vectorizer: 0.8673510065776361\n"
     ]
    }
   ],
   "source": [
    "accuracy_5 = (y_test == pred_5).mean() # accuracy\n",
    "print(f'Accuracy после скалинга Count Vectorizer 3700: {accuracy_5}')\n",
    "print(f'Accuracy после стемминга Count Vectorizer: {accuracy_3_cv}')\n",
    "print(f'Accuracy Count Vectorizer: {accuracy_1_cv}')"
   ]
  },
  {
   "cell_type": "markdown",
   "metadata": {},
   "source": [
    "Ищем токены с наибольшими по модулю весами "
   ]
  },
  {
   "cell_type": "code",
   "execution_count": 98,
   "metadata": {},
   "outputs": [
    {
     "data": {
      "text/plain": [
       "array([[0.00655525, 0.00227403, 0.06785123, ..., 0.00578277, 0.01478901,\n",
       "        0.01112678]])"
      ]
     },
     "execution_count": 98,
     "metadata": {},
     "output_type": "execute_result"
    }
   ],
   "source": [
    "coefs = abs(clf_5.coef_) # здесь лежат все наши веса, берем по модулю как просят в условии\n",
    "coefs"
   ]
  },
  {
   "cell_type": "code",
   "execution_count": 99,
   "metadata": {},
   "outputs": [],
   "source": [
    "np.set_printoptions(suppress=True) # уберу экспоненциальную запись"
   ]
  },
  {
   "cell_type": "code",
   "execution_count": 100,
   "metadata": {},
   "outputs": [
    {
     "data": {
      "text/html": [
       "<div>\n",
       "<style scoped>\n",
       "    .dataframe tbody tr th:only-of-type {\n",
       "        vertical-align: middle;\n",
       "    }\n",
       "\n",
       "    .dataframe tbody tr th {\n",
       "        vertical-align: top;\n",
       "    }\n",
       "\n",
       "    .dataframe thead th {\n",
       "        text-align: right;\n",
       "    }\n",
       "</style>\n",
       "<table border=\"1\" class=\"dataframe\">\n",
       "  <thead>\n",
       "    <tr style=\"text-align: right;\">\n",
       "      <th></th>\n",
       "      <th>0</th>\n",
       "    </tr>\n",
       "  </thead>\n",
       "  <tbody>\n",
       "    <tr>\n",
       "      <th>pleas</th>\n",
       "      <td>0.840269</td>\n",
       "    </tr>\n",
       "    <tr>\n",
       "      <th>best</th>\n",
       "      <td>0.925222</td>\n",
       "    </tr>\n",
       "    <tr>\n",
       "      <th>like</th>\n",
       "      <td>0.933797</td>\n",
       "    </tr>\n",
       "    <tr>\n",
       "      <th>thank</th>\n",
       "      <td>1.045520</td>\n",
       "    </tr>\n",
       "    <tr>\n",
       "      <th>scam</th>\n",
       "      <td>1.072974</td>\n",
       "    </tr>\n",
       "    <tr>\n",
       "      <th>hand</th>\n",
       "      <td>1.235499</td>\n",
       "    </tr>\n",
       "    <tr>\n",
       "      <th>panic</th>\n",
       "      <td>1.313910</td>\n",
       "    </tr>\n",
       "    <tr>\n",
       "      <th>free</th>\n",
       "      <td>1.113489</td>\n",
       "    </tr>\n",
       "    <tr>\n",
       "      <th>help</th>\n",
       "      <td>1.080915</td>\n",
       "    </tr>\n",
       "    <tr>\n",
       "      <th>crisi</th>\n",
       "      <td>1.755217</td>\n",
       "    </tr>\n",
       "  </tbody>\n",
       "</table>\n",
       "</div>"
      ],
      "text/plain": [
       "              0\n",
       "pleas  0.840269\n",
       "best   0.925222\n",
       "like   0.933797\n",
       "thank  1.045520\n",
       "scam   1.072974\n",
       "hand   1.235499\n",
       "panic  1.313910\n",
       "free   1.113489\n",
       "help   1.080915\n",
       "crisi  1.755217"
      ]
     },
     "execution_count": 100,
     "metadata": {},
     "output_type": "execute_result"
    }
   ],
   "source": [
    "index_array = np.argpartition(coefs, -10)[0:,-10:] # вытастиваем 10 максимальных\n",
    "\n",
    "coefs = pd.DataFrame(np.take(coefs, index_array), columns = cv_df.get_feature_names_out()[index_array][0]).T\n",
    "coefs # это максимальные по модулю вес"
   ]
  },
  {
   "cell_type": "code",
   "execution_count": 101,
   "metadata": {},
   "outputs": [
    {
     "data": {
      "image/png": "[encoded data removed]",
      "text/plain": [
       "<Figure size 800x500 with 1 Axes>"
      ]
     },
     "metadata": {},
     "output_type": "display_data"
    }
   ],
   "source": [
    "plt.figure(figsize = (8,5))\n",
    "sns.barplot(coefs, x=0, palette = 'summer');\n",
    "\n",
    "plt.title('Top-10 Weights distribution')\n",
    "plt.xlabel('Weight')\n",
    "plt.grid(color = 'gray', linestyle = '--', linewidth = 0.5);"
   ]
  },
  {
   "cell_type": "markdown",
   "metadata": {
    "id": "ThcEfzY1LHET"
   },
   "source": [
    "**Ответ:** Веса в среднем около 1.15, есть небольшой выброс, это вес у слова \"crisis\", в целом все слова часто используемы и справедливо находятся в топе."
   ]
  },
  {
   "cell_type": "markdown",
   "metadata": {
    "id": "ktJVOdrIHq7B"
   },
   "source": [
    "## Задание 7 Другие признаки (1.5 балла)"
   ]
  },
  {
   "cell_type": "markdown",
   "metadata": {
    "id": "Yt3jRCZ2H0Og"
   },
   "source": [
    "Мы были сконцентрированы на работе с текстами твиттов и не использовали другие признаки - имена пользователя, дату и местоположение"
   ]
  },
  {
   "cell_type": "markdown",
   "metadata": {
    "id": "52wjewCCo_di"
   },
   "source": [
    "Изучите признаки UserName и ScreenName. полезны ли они? Если полезны, то закодируйте их, добавьте к матрице с отскалированными признаками, обучите логистическую регрессию, замерьте качество."
   ]
  },
  {
   "cell_type": "code",
   "execution_count": 102,
   "metadata": {},
   "outputs": [
    {
     "name": "stdout",
     "output_type": "stream",
     "text": [
      "Размерность итоговой таблицы:(33444, 6)\n",
      "Размерность итоговой таблицы:(33444,)\n",
      "Размерность итоговой таблицы:(33444,)\n"
     ]
    }
   ],
   "source": [
    "print('Размерность итоговой таблицы:{}'.format(df.shape))\n",
    "print('Размерность итоговой таблицы:{}'.format(df.UserName.shape))\n",
    "print('Размерность итоговой таблицы:{}'.format(df.ScreenName.shape))"
   ]
  },
  {
   "cell_type": "markdown",
   "metadata": {
    "id": "r8_qR-gnpT3a"
   },
   "source": [
    "**Ответ:** UserName и ScreenName все уникальны, закономерность выявить не представляется возможным, можно убрать их. Данные столбцы просто служат для идентификации объектов - условно индексация."
   ]
  },
  {
   "cell_type": "code",
   "execution_count": 103,
   "metadata": {
    "scrolled": true
   },
   "outputs": [],
   "source": [
    "X_train.drop(['UserName', 'ScreenName'], axis = 1, inplace = True)\n",
    "X_test.drop(['UserName', 'ScreenName'], axis = 1, inplace = True)"
   ]
  },
  {
   "cell_type": "code",
   "execution_count": 104,
   "metadata": {},
   "outputs": [
    {
     "data": {
      "text/html": [
       "<div>\n",
       "<style scoped>\n",
       "    .dataframe tbody tr th:only-of-type {\n",
       "        vertical-align: middle;\n",
       "    }\n",
       "\n",
       "    .dataframe tbody tr th {\n",
       "        vertical-align: top;\n",
       "    }\n",
       "\n",
       "    .dataframe thead th {\n",
       "        text-align: right;\n",
       "    }\n",
       "</style>\n",
       "<table border=\"1\" class=\"dataframe\">\n",
       "  <thead>\n",
       "    <tr style=\"text-align: right;\">\n",
       "      <th></th>\n",
       "      <th>Location</th>\n",
       "      <th>TweetAt</th>\n",
       "      <th>OriginalTweet</th>\n",
       "    </tr>\n",
       "  </thead>\n",
       "  <tbody>\n",
       "    <tr>\n",
       "      <th>25621</th>\n",
       "      <td>Unknown</td>\n",
       "      <td>06-04-2020</td>\n",
       "      <td>Why we still want to buy so much stuff during ...</td>\n",
       "    </tr>\n",
       "    <tr>\n",
       "      <th>30135</th>\n",
       "      <td>Boston, MA HQ</td>\n",
       "      <td>10-04-2020</td>\n",
       "      <td>With driving even more usage a strong strategy...</td>\n",
       "    </tr>\n",
       "    <tr>\n",
       "      <th>28899</th>\n",
       "      <td>India</td>\n",
       "      <td>09-04-2020</td>\n",
       "      <td>@Canon_India I am very happy.. Great job by @C...</td>\n",
       "    </tr>\n",
       "    <tr>\n",
       "      <th>5989</th>\n",
       "      <td>Mayfair, London, UK</td>\n",
       "      <td>19-03-2020</td>\n",
       "      <td>The U.S national debt will likely exceed $30 T...</td>\n",
       "    </tr>\n",
       "    <tr>\n",
       "      <th>4367</th>\n",
       "      <td>WNC</td>\n",
       "      <td>18-03-2020</td>\n",
       "      <td>Finally got to the grocery store. Honestly, wh...</td>\n",
       "    </tr>\n",
       "  </tbody>\n",
       "</table>\n",
       "</div>"
      ],
      "text/plain": [
       "                  Location     TweetAt  \\\n",
       "25621              Unknown  06-04-2020   \n",
       "30135        Boston, MA HQ  10-04-2020   \n",
       "28899                India  09-04-2020   \n",
       "5989   Mayfair, London, UK  19-03-2020   \n",
       "4367                   WNC  18-03-2020   \n",
       "\n",
       "                                           OriginalTweet  \n",
       "25621  Why we still want to buy so much stuff during ...  \n",
       "30135  With driving even more usage a strong strategy...  \n",
       "28899  @Canon_India I am very happy.. Great job by @C...  \n",
       "5989   The U.S national debt will likely exceed $30 T...  \n",
       "4367   Finally got to the grocery store. Honestly, wh...  "
      ]
     },
     "execution_count": 104,
     "metadata": {},
     "output_type": "execute_result"
    }
   ],
   "source": [
    "X_train.head()"
   ]
  },
  {
   "cell_type": "markdown",
   "metadata": {
    "id": "ythEcFSkt7y3"
   },
   "source": [
    "Изучите признак TweetAt в обучающей выборке: преобразуйте его к типу datetime и нарисуйте его гистограмму с разделением по цвету на оспнове целевой переменной. Полезен ли он? Если полезен, то закодируйте его, добавьте к матрице с отскалированными признаками, обучите логистическую регрессию, замерьте качество."
   ]
  },
  {
   "cell_type": "code",
   "execution_count": 105,
   "metadata": {
    "id": "Lxb_k0JLirNv"
   },
   "outputs": [
    {
     "name": "stdout",
     "output_type": "stream",
     "text": [
      "<class 'pandas.core.frame.DataFrame'>\n",
      "Int64Index: 23410 entries, 25621 to 2732\n",
      "Data columns (total 3 columns):\n",
      " #   Column         Non-Null Count  Dtype         \n",
      "---  ------         --------------  -----         \n",
      " 0   Location       23410 non-null  object        \n",
      " 1   TweetAt        23410 non-null  datetime64[ns]\n",
      " 2   OriginalTweet  23410 non-null  object        \n",
      "dtypes: datetime64[ns](1), object(2)\n",
      "memory usage: 731.6+ KB\n"
     ]
    }
   ],
   "source": [
    "X_test.TweetAt = pd.to_datetime(X_test.TweetAt, dayfirst=True)\n",
    "X_train.TweetAt = pd.to_datetime(X_train.TweetAt, dayfirst=True)\n",
    "X_train.info()"
   ]
  },
  {
   "cell_type": "code",
   "execution_count": 106,
   "metadata": {},
   "outputs": [
    {
     "data": {
      "image/png": "[encoded data removed]",
      "text/plain": [
       "<Figure size 1000x500 with 1 Axes>"
      ]
     },
     "metadata": {},
     "output_type": "display_data"
    }
   ],
   "source": [
    "import seaborn as sns\n",
    "plt.figure(figsize = (10,5))\n",
    "sns.histplot(x=X_train['TweetAt'], hue = y_train, palette = 'summer', multiple = 'stack');"
   ]
  },
  {
   "cell_type": "markdown",
   "metadata": {},
   "source": [
    "В каждую из дат распеределение твитов 1 или 0 примерно одинаково, более детально можно посмотреть соотношение в табличке sentiment_counts ниже. Сильно большой перевес в пользу положительных твитов был разве что 2020-03-28, но там было всего 16 твитов, что гораздо меньше обычного, медианное значение в день - 663.5 твитов"
   ]
  },
  {
   "cell_type": "code",
   "execution_count": 107,
   "metadata": {},
   "outputs": [
    {
     "data": {
      "text/html": [
       "<div>\n",
       "<style scoped>\n",
       "    .dataframe tbody tr th:only-of-type {\n",
       "        vertical-align: middle;\n",
       "    }\n",
       "\n",
       "    .dataframe tbody tr th {\n",
       "        vertical-align: top;\n",
       "    }\n",
       "\n",
       "    .dataframe thead th {\n",
       "        text-align: right;\n",
       "    }\n",
       "</style>\n",
       "<table border=\"1\" class=\"dataframe\">\n",
       "  <thead>\n",
       "    <tr style=\"text-align: right;\">\n",
       "      <th>Sentiment</th>\n",
       "      <th>0</th>\n",
       "      <th>1</th>\n",
       "    </tr>\n",
       "    <tr>\n",
       "      <th>TweetAt</th>\n",
       "      <th></th>\n",
       "      <th></th>\n",
       "    </tr>\n",
       "  </thead>\n",
       "  <tbody>\n",
       "    <tr>\n",
       "      <th>01-04-2020</th>\n",
       "      <td>0.489914</td>\n",
       "      <td>0.510086</td>\n",
       "    </tr>\n",
       "    <tr>\n",
       "      <th>02-04-2020</th>\n",
       "      <td>0.484171</td>\n",
       "      <td>0.515829</td>\n",
       "    </tr>\n",
       "    <tr>\n",
       "      <th>03-04-2020</th>\n",
       "      <td>0.464126</td>\n",
       "      <td>0.535874</td>\n",
       "    </tr>\n",
       "    <tr>\n",
       "      <th>04-04-2020</th>\n",
       "      <td>0.417808</td>\n",
       "      <td>0.582192</td>\n",
       "    </tr>\n",
       "    <tr>\n",
       "      <th>05-04-2020</th>\n",
       "      <td>0.441368</td>\n",
       "      <td>0.558632</td>\n",
       "    </tr>\n",
       "  </tbody>\n",
       "</table>\n",
       "</div>"
      ],
      "text/plain": [
       "Sentiment          0         1\n",
       "TweetAt                       \n",
       "01-04-2020  0.489914  0.510086\n",
       "02-04-2020  0.484171  0.515829\n",
       "03-04-2020  0.464126  0.535874\n",
       "04-04-2020  0.417808  0.582192\n",
       "05-04-2020  0.441368  0.558632"
      ]
     },
     "execution_count": 107,
     "metadata": {},
     "output_type": "execute_result"
    }
   ],
   "source": [
    "sentiment_counts = train.groupby(by = 'TweetAt')['Sentiment'].value_counts(normalize = True).unstack()\n",
    "sentiment_counts.head() # здесь разбивка по тональности твитов на каждый день"
   ]
  },
  {
   "cell_type": "markdown",
   "metadata": {
    "id": "4IdLBdpQxM-G"
   },
   "source": [
    "**Ответ:** Так как данные распределеным примерно одинаково каждый день, признак особо не имеет смысла, можно убрать"
   ]
  },
  {
   "cell_type": "code",
   "execution_count": 108,
   "metadata": {},
   "outputs": [],
   "source": [
    "X_train.drop(['TweetAt'], axis = 1, inplace = True)\n",
    "X_test.drop(['TweetAt'], axis = 1, inplace = True)"
   ]
  },
  {
   "cell_type": "markdown",
   "metadata": {
    "id": "r2JtRPhNP6qx"
   },
   "source": [
    "Поработайте с признаком Location в обучающей выборке. Сколько уникальных значений?"
   ]
  },
  {
   "cell_type": "code",
   "execution_count": 109,
   "metadata": {
    "id": "xYQZQ1FRNpoe"
   },
   "outputs": [
    {
     "data": {
      "text/plain": [
       "7949"
      ]
     },
     "execution_count": 109,
     "metadata": {},
     "output_type": "execute_result"
    }
   ],
   "source": [
    "X_train.Location.nunique() # уникальных значений"
   ]
  },
  {
   "cell_type": "code",
   "execution_count": 110,
   "metadata": {},
   "outputs": [
    {
     "data": {
      "text/plain": [
       "Unknown                           4944\n",
       "London                             301\n",
       "United States                      295\n",
       "London, England                    274\n",
       "New York, NY                       223\n",
       "                                  ... \n",
       "Work: Kent and Live: Sussex          1\n",
       "Somewhere on TradingView             1\n",
       "Honolulu, Hawai?i                    1\n",
       "SFO                                  1\n",
       "Waterville, Ireland Austin, TX       1\n",
       "Name: Location, Length: 7949, dtype: int64"
      ]
     },
     "execution_count": 110,
     "metadata": {},
     "output_type": "execute_result"
    }
   ],
   "source": [
    "X_train.Location.value_counts()"
   ]
  },
  {
   "cell_type": "markdown",
   "metadata": {
    "id": "6k4JwpRTQISa"
   },
   "source": [
    "Постройте гистограмму топ-10 по популярности местоположений (исключая Unknown)"
   ]
  },
  {
   "cell_type": "code",
   "execution_count": 111,
   "metadata": {
    "id": "J91YkhegJ0mz"
   },
   "outputs": [
    {
     "data": {
      "image/png": "[encoded data removed]",
      "text/plain": [
       "<Figure size 800x500 with 1 Axes>"
      ]
     },
     "metadata": {},
     "output_type": "display_data"
    }
   ],
   "source": [
    "without_unknown = X_train[X_train.Location != \"Unknown\"]\n",
    "top_locations = without_unknown.Location.value_counts().head(10)\n",
    "\n",
    "plt.figure(figsize = (8,5))\n",
    "top_locations.plot(kind = 'bar')\n",
    "\n",
    "plt.title('Топ-10 популярных местоположений (исключая Unknown)')\n",
    "plt.xlabel('Местоположение')\n",
    "plt.ylabel('Количество упоминаний')\n",
    "plt.grid(color = 'gray', linestyle = '--', linewidth = 0.5);"
   ]
  },
  {
   "cell_type": "markdown",
   "metadata": {
    "id": "ZOsv3lODTfYB"
   },
   "source": [
    "Видно, что многие местоположения включают в себя более точное название места, чем другие (Например, у некоторых стоит London, UK; а у некоторых просто UK или United Kingdom).\n",
    "\n",
    "Создайте новый признак WiderLocation, который содержит самое широкое местоположение (например, из London, UK должно получиться UK). Сколько уникальных категорий теперь? Постройте аналогичную гистограмму."
   ]
  },
  {
   "cell_type": "code",
   "execution_count": 112,
   "metadata": {},
   "outputs": [],
   "source": [
    "def wider_location(table):\n",
    "    locations = np.array(table.Location)\n",
    "    split_fn = np.vectorize(lambda x: x.split(', ')[-1])\n",
    "    split_locations = split_fn(locations).astype('str')\n",
    "    split_locations = np.char.lower(split_locations)\n",
    "    table['WiderLocation'] = split_locations\n",
    "    return table"
   ]
  },
  {
   "cell_type": "code",
   "execution_count": 113,
   "metadata": {
    "id": "SeJBfBWgPvg_"
   },
   "outputs": [],
   "source": [
    "X_train=wider_location(X_train)"
   ]
  },
  {
   "cell_type": "markdown",
   "metadata": {},
   "source": [
    "Посмотрим сколько уникальных значений в WiderLocation"
   ]
  },
  {
   "cell_type": "code",
   "execution_count": 114,
   "metadata": {},
   "outputs": [
    {
     "data": {
      "text/plain": [
       "4707"
      ]
     },
     "execution_count": 114,
     "metadata": {},
     "output_type": "execute_result"
    }
   ],
   "source": [
    "X_train.WiderLocation.nunique()"
   ]
  },
  {
   "cell_type": "code",
   "execution_count": 115,
   "metadata": {},
   "outputs": [
    {
     "data": {
      "image/png": "[encoded data removed]",
      "text/plain": [
       "<Figure size 800x500 with 1 Axes>"
      ]
     },
     "metadata": {},
     "output_type": "display_data"
    }
   ],
   "source": [
    "without_unknown = X_train[X_train.WiderLocation != \"unknown\"]\n",
    "top_locations = without_unknown.WiderLocation.value_counts().head(10)\n",
    "\n",
    "plt.figure(figsize = (8,5))\n",
    "top_locations.plot(kind = 'bar')\n",
    "\n",
    "plt.title('Топ-10 популярных местоположений (исключая Unknown)')\n",
    "plt.xlabel('Местоположение')\n",
    "plt.ylabel('Количество упоминаний')\n",
    "plt.grid(color = 'gray', linestyle = '--', linewidth = 0.5);"
   ]
  },
  {
   "cell_type": "markdown",
   "metadata": {},
   "source": [
    "Закодируйте признак WiderLocation с помощью OHE таким образом, чтобы создались только столбцы для местоположений, которые встречаются более одного раза. Сколько таких значений?"
   ]
  },
  {
   "cell_type": "code",
   "execution_count": 116,
   "metadata": {},
   "outputs": [
    {
     "data": {
      "text/plain": [
       "(988,)"
      ]
     },
     "execution_count": 116,
     "metadata": {},
     "output_type": "execute_result"
    }
   ],
   "source": [
    "location_counts = X_train.WiderLocation.value_counts()\n",
    "frequent_locations = location_counts[location_counts > 1].index.values\n",
    "frequent_locations.shape\n",
    "# это количество всего"
   ]
  },
  {
   "cell_type": "code",
   "execution_count": 117,
   "metadata": {
    "scrolled": true
   },
   "outputs": [
    {
     "data": {
      "text/html": [
       "<div>\n",
       "<style scoped>\n",
       "    .dataframe tbody tr th:only-of-type {\n",
       "        vertical-align: middle;\n",
       "    }\n",
       "\n",
       "    .dataframe tbody tr th {\n",
       "        vertical-align: top;\n",
       "    }\n",
       "\n",
       "    .dataframe thead th {\n",
       "        text-align: right;\n",
       "    }\n",
       "</style>\n",
       "<table border=\"1\" class=\"dataframe\">\n",
       "  <thead>\n",
       "    <tr style=\"text-align: right;\">\n",
       "      <th></th>\n",
       "      <th>Location</th>\n",
       "      <th>OriginalTweet</th>\n",
       "      <th>WiderLocation</th>\n",
       "    </tr>\n",
       "  </thead>\n",
       "  <tbody>\n",
       "    <tr>\n",
       "      <th>25621</th>\n",
       "      <td>Unknown</td>\n",
       "      <td>Why we still want to buy so much stuff during ...</td>\n",
       "      <td>unknown</td>\n",
       "    </tr>\n",
       "    <tr>\n",
       "      <th>28899</th>\n",
       "      <td>India</td>\n",
       "      <td>@Canon_India I am very happy.. Great job by @C...</td>\n",
       "      <td>india</td>\n",
       "    </tr>\n",
       "    <tr>\n",
       "      <th>5989</th>\n",
       "      <td>Mayfair, London, UK</td>\n",
       "      <td>The U.S national debt will likely exceed $30 T...</td>\n",
       "      <td>uk</td>\n",
       "    </tr>\n",
       "    <tr>\n",
       "      <th>21350</th>\n",
       "      <td>Ellicott City, MD</td>\n",
       "      <td>Friends: Catholic University's food service wo...</td>\n",
       "      <td>md</td>\n",
       "    </tr>\n",
       "    <tr>\n",
       "      <th>15378</th>\n",
       "      <td>Unknown</td>\n",
       "      <td>It's times like these you understand the value...</td>\n",
       "      <td>unknown</td>\n",
       "    </tr>\n",
       "  </tbody>\n",
       "</table>\n",
       "</div>"
      ],
      "text/plain": [
       "                  Location                                      OriginalTweet  \\\n",
       "25621              Unknown  Why we still want to buy so much stuff during ...   \n",
       "28899                India  @Canon_India I am very happy.. Great job by @C...   \n",
       "5989   Mayfair, London, UK  The U.S national debt will likely exceed $30 T...   \n",
       "21350    Ellicott City, MD  Friends: Catholic University's food service wo...   \n",
       "15378              Unknown  It's times like these you understand the value...   \n",
       "\n",
       "      WiderLocation  \n",
       "25621       unknown  \n",
       "28899         india  \n",
       "5989             uk  \n",
       "21350            md  \n",
       "15378       unknown  "
      ]
     },
     "execution_count": 117,
     "metadata": {},
     "output_type": "execute_result"
    }
   ],
   "source": [
    "# отфильтруем строки согласно условию выше\n",
    "\n",
    "filtered_data = X_train[X_train.WiderLocation.isin(frequent_locations)]\n",
    "filtered_data.head()\n",
    "\n",
    "# дальше по этй штуке будем кодировать"
   ]
  },
  {
   "cell_type": "code",
   "execution_count": 118,
   "metadata": {},
   "outputs": [],
   "source": [
    "X_test = wider_location(X_test) # добавляю WiderLocation к X_test"
   ]
  },
  {
   "cell_type": "code",
   "execution_count": 119,
   "metadata": {},
   "outputs": [],
   "source": [
    "from sklearn.preprocessing import OneHotEncoder\n",
    "ohe = OneHotEncoder(categories='auto', handle_unknown='ignore')\n",
    "\n",
    "ohe.fit(pd.DataFrame(filtered_data.WiderLocation))\n",
    "encoded_location_train = ohe.transform(pd.DataFrame(X_train.WiderLocation))\n",
    "encoded_location_test = ohe.transform(pd.DataFrame(X_test.WiderLocation))"
   ]
  },
  {
   "cell_type": "markdown",
   "metadata": {
    "id": "ZyMX5kZuimPK"
   },
   "source": [
    "Добавьте этот признак к матрице отскалированных текстовых признаков, обучите логистическую регрессию, замерьте качество. Как оно изменилось? Оказался ли признак полезным?\n",
    "\n",
    "\n",
    "*Подсказка:* используйте параметр `categories` в энкодере."
   ]
  },
  {
   "cell_type": "code",
   "execution_count": 120,
   "metadata": {},
   "outputs": [
    {
     "data": {
      "text/plain": [
       "(23410, 4688)"
      ]
     },
     "execution_count": 120,
     "metadata": {},
     "output_type": "execute_result"
    }
   ],
   "source": [
    "# # объединяю разреженные матрицы и закодированные ячейки\n",
    "encoded_train = np.hstack((cv_df_bow_train.toarray(), encoded_location_train.toarray()))\n",
    "encoded_test = np.hstack((cv_df_bow_test.toarray(), encoded_location_test.toarray()))\n",
    "encoded_train.shape"
   ]
  },
  {
   "cell_type": "code",
   "execution_count": 121,
   "metadata": {},
   "outputs": [
    {
     "data": {
      "text/plain": [
       "array([1, 0, 1, ..., 0, 1, 1])"
      ]
     },
     "execution_count": 121,
     "metadata": {},
     "output_type": "execute_result"
    }
   ],
   "source": [
    "clf_6= LogisticRegression(max_iter=200, random_state=0)\n",
    "clf_6.fit(encoded_train,y_train)\n",
    "pred_6 = clf_6.predict(encoded_test)\n",
    "pred_6"
   ]
  },
  {
   "cell_type": "code",
   "execution_count": 122,
   "metadata": {},
   "outputs": [
    {
     "name": "stdout",
     "output_type": "stream",
     "text": [
      "              precision    recall  f1-score   support\n",
      "\n",
      "           0       0.83      0.82      0.83      4552\n",
      "           1       0.86      0.86      0.86      5482\n",
      "\n",
      "    accuracy                           0.85     10034\n",
      "   macro avg       0.84      0.84      0.84     10034\n",
      "weighted avg       0.85      0.85      0.85     10034\n",
      "\n"
     ]
    }
   ],
   "source": [
    "print(classification_report(y_test, pred_6))"
   ]
  },
  {
   "cell_type": "code",
   "execution_count": 123,
   "metadata": {},
   "outputs": [
    {
     "name": "stdout",
     "output_type": "stream",
     "text": [
      "Accuracy после добавления нового признака Count Vectorizer: 0.8452262308152282\n",
      "Accuracy после скалинга Count Vectorizer 3700: 0.8446282639027307\n",
      "Изменение: 0.0005979669124974718\n",
      "Accuracy после стемминга Count Vectorizer: 0.8669523619693044\n",
      "Accuracy Count Vectorizer: 0.8673510065776361\n"
     ]
    }
   ],
   "source": [
    "accuracy_6 = (y_test == pred_6).mean() # accuracy считаем\n",
    "print(f'Accuracy после добавления нового признака Count Vectorizer: {accuracy_6}')\n",
    "print(f'Accuracy после скалинга Count Vectorizer 3700: {accuracy_5}')\n",
    "print(f'Изменение: {accuracy_6-accuracy_5}')\n",
    "\n",
    "print(f'Accuracy после стемминга Count Vectorizer: {accuracy_3_cv}')\n",
    "print(f'Accuracy Count Vectorizer: {accuracy_1_cv}')"
   ]
  },
  {
   "cell_type": "markdown",
   "metadata": {
    "id": "7dHsGlDRYUQt"
   },
   "source": [
    "**Ответ:** Качество на тесте не изменилось практически в сравнении Accuracy после скалинга Count Vectorizer 3700. Но оно будет меняться при увеличении порога встречаемости для категорий при кодировке. Сейчас стоит 1 по условию\n",
    "\n",
    "Лучший результат Accuracy был получен в самом начале домашки и составляет"
   ]
  },
  {
   "cell_type": "code",
   "execution_count": 124,
   "metadata": {},
   "outputs": [
    {
     "name": "stdout",
     "output_type": "stream",
     "text": [
      "Accuracy Count Vectorizer: 0.8673510065776361\n"
     ]
    }
   ],
   "source": [
    "print(f'Accuracy Count Vectorizer: {accuracy_1_cv}')"
   ]
  },
  {
   "cell_type": "markdown",
   "metadata": {
    "id": "IWn6h4W9eD3S"
   },
   "source": [
    "## Задание 8 Хорошее качество (Бонус 1 балл)"
   ]
  },
  {
   "cell_type": "markdown",
   "metadata": {},
   "source": [
    "Добейтесь accuracy=0.9 на тестовой выборке (можно сменить токенайзер, векторайзер, модель и т.д.)"
   ]
  },
  {
   "cell_type": "code",
   "execution_count": null,
   "metadata": {},
   "outputs": [],
   "source": []
  }
 ],
 "metadata": {
  "colab": {
   "provenance": []
  },
  "kernelspec": {
   "display_name": "Python 3 (ipykernel)",
   "language": "python",
   "name": "python3"
  },
  "language_info": {
   "codemirror_mode": {
    "name": "ipython",
    "version": 3
   },
   "file_extension": ".py",
   "mimetype": "text/x-python",
   "name": "python",
   "nbconvert_exporter": "python",
   "pygments_lexer": "ipython3",
   "version": "3.10.9"
  }
 },
 "nbformat": 4,
 "nbformat_minor": 1
}
